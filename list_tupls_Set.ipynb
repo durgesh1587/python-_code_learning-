{
 "cells": [
  {
   "cell_type": "code",
   "execution_count": 1,
   "id": "e4593c9b-743a-476f-ab7a-0a4909276b5e",
   "metadata": {},
   "outputs": [],
   "source": [
    "l=[1,5,8,\"durgesh\",41.45,True]"
   ]
  },
  {
   "cell_type": "code",
   "execution_count": 2,
   "id": "f533fc0a-f373-4fd3-b7e5-261b6f3766c6",
   "metadata": {},
   "outputs": [
    {
     "data": {
      "text/plain": [
       "list"
      ]
     },
     "execution_count": 2,
     "metadata": {},
     "output_type": "execute_result"
    }
   ],
   "source": [
    "type(l)"
   ]
  },
  {
   "cell_type": "code",
   "execution_count": 3,
   "id": "4af4888c-e9e4-4fe3-addf-ab52cc61a5ce",
   "metadata": {},
   "outputs": [
    {
     "data": {
      "text/plain": [
       "41.45"
      ]
     },
     "execution_count": 3,
     "metadata": {},
     "output_type": "execute_result"
    }
   ],
   "source": [
    "l[4]"
   ]
  },
  {
   "cell_type": "code",
   "execution_count": 4,
   "id": "5f85a7ae-3215-4593-b07b-14d177758242",
   "metadata": {},
   "outputs": [
    {
     "data": {
      "text/plain": [
       "1"
      ]
     },
     "execution_count": 4,
     "metadata": {},
     "output_type": "execute_result"
    }
   ],
   "source": [
    "l[0]"
   ]
  },
  {
   "cell_type": "code",
   "execution_count": 6,
   "id": "45eb1e36-411c-43d9-ada8-cf96651c5756",
   "metadata": {},
   "outputs": [
    {
     "data": {
      "text/plain": [
       "[5, 8, 'durgesh', 41.45]"
      ]
     },
     "execution_count": 6,
     "metadata": {},
     "output_type": "execute_result"
    }
   ],
   "source": [
    "l[1:5]"
   ]
  },
  {
   "cell_type": "code",
   "execution_count": 9,
   "id": "da47efc0-f25d-42e3-a96b-b6730bef7fcf",
   "metadata": {},
   "outputs": [
    {
     "data": {
      "text/plain": [
       "True"
      ]
     },
     "execution_count": 9,
     "metadata": {},
     "output_type": "execute_result"
    }
   ],
   "source": [
    "l[-1]"
   ]
  },
  {
   "cell_type": "code",
   "execution_count": 10,
   "id": "1ac690f2-e7cf-436d-b6c5-d6881e377f86",
   "metadata": {},
   "outputs": [
    {
     "data": {
      "text/plain": [
       "[True, 41.45, 'durgesh', 8, 5, 1]"
      ]
     },
     "execution_count": 10,
     "metadata": {},
     "output_type": "execute_result"
    }
   ],
   "source": [
    "l[::-1]"
   ]
  },
  {
   "cell_type": "code",
   "execution_count": 11,
   "id": "a3eebbce-ddee-40b8-a6f5-f4a052c9269b",
   "metadata": {},
   "outputs": [
    {
     "data": {
      "text/plain": [
       "[1, 'durgesh']"
      ]
     },
     "execution_count": 11,
     "metadata": {},
     "output_type": "execute_result"
    }
   ],
   "source": [
    "l[::3]"
   ]
  },
  {
   "cell_type": "code",
   "execution_count": 12,
   "id": "4dfe2e9a-b6ca-426f-8dd8-7a4b2cfb0231",
   "metadata": {},
   "outputs": [],
   "source": [
    "s=\"durgesh\""
   ]
  },
  {
   "cell_type": "code",
   "execution_count": 13,
   "id": "98b06a6f-5751-4689-ba2a-b6ac5db8ffaa",
   "metadata": {},
   "outputs": [
    {
     "data": {
      "text/plain": [
       "['d', 'u', 'r', 'g', 'e', 's', 'h']"
      ]
     },
     "execution_count": 13,
     "metadata": {},
     "output_type": "execute_result"
    }
   ],
   "source": [
    "list(s)"
   ]
  },
  {
   "cell_type": "code",
   "execution_count": 14,
   "id": "8cd348c2-d9fd-4af9-be63-cdf4262714d6",
   "metadata": {},
   "outputs": [
    {
     "data": {
      "text/plain": [
       "[1, 5, 8, 'durgesh', 41.45, True]"
      ]
     },
     "execution_count": 14,
     "metadata": {},
     "output_type": "execute_result"
    }
   ],
   "source": [
    "l"
   ]
  },
  {
   "cell_type": "code",
   "execution_count": 17,
   "id": "d7aafb70-c763-40c3-ba1c-27a5f3661386",
   "metadata": {},
   "outputs": [
    {
     "data": {
      "text/plain": [
       "'durg'"
      ]
     },
     "execution_count": 17,
     "metadata": {},
     "output_type": "execute_result"
    }
   ],
   "source": [
    "l[3][0:4]"
   ]
  },
  {
   "cell_type": "code",
   "execution_count": 19,
   "id": "5747cdac-61e9-427a-b040-f760889501c2",
   "metadata": {},
   "outputs": [
    {
     "data": {
      "text/plain": [
       "True"
      ]
     },
     "execution_count": 19,
     "metadata": {},
     "output_type": "execute_result"
    }
   ],
   "source": [
    "l[5]"
   ]
  },
  {
   "cell_type": "code",
   "execution_count": 20,
   "id": "221f1c41-7c40-4ac5-9809-8ef4e2e3cbdd",
   "metadata": {},
   "outputs": [
    {
     "data": {
      "text/plain": [
       "'Tr'"
      ]
     },
     "execution_count": 20,
     "metadata": {},
     "output_type": "execute_result"
    }
   ],
   "source": [
    "str(l[5])[0:2]"
   ]
  },
  {
   "cell_type": "code",
   "execution_count": 21,
   "id": "4601ff7b-4159-4591-aedb-d837c9ae7963",
   "metadata": {},
   "outputs": [],
   "source": [
    "l1=[1,2,3]"
   ]
  },
  {
   "cell_type": "code",
   "execution_count": 22,
   "id": "2ec348cb-96f4-4de2-aad3-e95202bd0665",
   "metadata": {},
   "outputs": [
    {
     "data": {
      "text/plain": [
       "[1, 5, 8, 'durgesh', 41.45, True, 1, 2, 3]"
      ]
     },
     "execution_count": 22,
     "metadata": {},
     "output_type": "execute_result"
    }
   ],
   "source": [
    "l+l1"
   ]
  },
  {
   "cell_type": "code",
   "execution_count": 23,
   "id": "cbdde89d-995b-4a2e-a0c9-e63014ef304a",
   "metadata": {},
   "outputs": [
    {
     "data": {
      "text/plain": [
       "[1, 2, 3, 1, 2, 3, 1, 2, 3]"
      ]
     },
     "execution_count": 23,
     "metadata": {},
     "output_type": "execute_result"
    }
   ],
   "source": [
    "l1*3"
   ]
  },
  {
   "cell_type": "code",
   "execution_count": 24,
   "id": "130c2882-9345-4890-a759-f8eec6ad35d1",
   "metadata": {},
   "outputs": [
    {
     "data": {
      "text/plain": [
       "6"
      ]
     },
     "execution_count": 24,
     "metadata": {},
     "output_type": "execute_result"
    }
   ],
   "source": [
    "len(l)"
   ]
  },
  {
   "cell_type": "code",
   "execution_count": 25,
   "id": "cfd2eed1-85dd-40d9-a333-67e9315a2e9b",
   "metadata": {},
   "outputs": [],
   "source": [
    "l.append(44)"
   ]
  },
  {
   "cell_type": "code",
   "execution_count": 26,
   "id": "deeeb272-893e-4b3a-bd44-aeaa37cfa08c",
   "metadata": {},
   "outputs": [
    {
     "data": {
      "text/plain": [
       "[1, 5, 8, 'durgesh', 41.45, True, 44]"
      ]
     },
     "execution_count": 26,
     "metadata": {},
     "output_type": "execute_result"
    }
   ],
   "source": [
    "l"
   ]
  },
  {
   "cell_type": "code",
   "execution_count": 27,
   "id": "2ec36272-466a-4694-975f-3e2978c025b8",
   "metadata": {},
   "outputs": [],
   "source": [
    "l.append(l1)"
   ]
  },
  {
   "cell_type": "code",
   "execution_count": 28,
   "id": "49e52372-9d8d-4bf3-9164-a87a4aa4f16a",
   "metadata": {},
   "outputs": [
    {
     "data": {
      "text/plain": [
       "[1, 5, 8, 'durgesh', 41.45, True, 44, [1, 2, 3]]"
      ]
     },
     "execution_count": 28,
     "metadata": {},
     "output_type": "execute_result"
    }
   ],
   "source": [
    "l"
   ]
  },
  {
   "cell_type": "code",
   "execution_count": 29,
   "id": "e9fc980c-b99f-47ba-a20c-1a5fd5ccde5d",
   "metadata": {},
   "outputs": [
    {
     "data": {
      "text/plain": [
       "8"
      ]
     },
     "execution_count": 29,
     "metadata": {},
     "output_type": "execute_result"
    }
   ],
   "source": [
    "len(l)"
   ]
  },
  {
   "cell_type": "code",
   "execution_count": 35,
   "id": "5fbbe976-a949-41c9-8881-6258304ee159",
   "metadata": {},
   "outputs": [
    {
     "data": {
      "text/plain": [
       "2"
      ]
     },
     "execution_count": 35,
     "metadata": {},
     "output_type": "execute_result"
    }
   ],
   "source": [
    "l[7][1]"
   ]
  },
  {
   "cell_type": "code",
   "execution_count": 36,
   "id": "d64eaf66-c794-42c3-a15c-81fef0bc130f",
   "metadata": {},
   "outputs": [],
   "source": [
    "l.extend(\"durgesh\")"
   ]
  },
  {
   "cell_type": "code",
   "execution_count": 37,
   "id": "89ea3913-a643-429f-99b1-88dce7c29574",
   "metadata": {},
   "outputs": [
    {
     "data": {
      "text/plain": [
       "[1,\n",
       " 5,\n",
       " 8,\n",
       " 'durgesh',\n",
       " 41.45,\n",
       " True,\n",
       " 44,\n",
       " [1, 2, 3],\n",
       " 1,\n",
       " 'd',\n",
       " 'u',\n",
       " 'r',\n",
       " 'g',\n",
       " 'e',\n",
       " 's',\n",
       " 'h']"
      ]
     },
     "execution_count": 37,
     "metadata": {},
     "output_type": "execute_result"
    }
   ],
   "source": [
    "l"
   ]
  },
  {
   "cell_type": "code",
   "execution_count": 38,
   "id": "770e951d-f734-48d7-b6e1-2fd2583b9a71",
   "metadata": {},
   "outputs": [],
   "source": [
    "l.extend([1,2,3])"
   ]
  },
  {
   "cell_type": "code",
   "execution_count": 39,
   "id": "6b578208-2adc-4046-bba2-24bfbf0009bf",
   "metadata": {},
   "outputs": [
    {
     "data": {
      "text/plain": [
       "[1,\n",
       " 5,\n",
       " 8,\n",
       " 'durgesh',\n",
       " 41.45,\n",
       " True,\n",
       " 44,\n",
       " [1, 2, 3],\n",
       " 1,\n",
       " 'd',\n",
       " 'u',\n",
       " 'r',\n",
       " 'g',\n",
       " 'e',\n",
       " 's',\n",
       " 'h',\n",
       " 1,\n",
       " 2,\n",
       " 3]"
      ]
     },
     "execution_count": 39,
     "metadata": {},
     "output_type": "execute_result"
    }
   ],
   "source": [
    "l"
   ]
  },
  {
   "cell_type": "code",
   "execution_count": 40,
   "id": "b55ecec3-aec1-434c-94c2-a38ea6b99d48",
   "metadata": {},
   "outputs": [
    {
     "data": {
      "text/plain": [
       "[1, 2, 3]"
      ]
     },
     "execution_count": 40,
     "metadata": {},
     "output_type": "execute_result"
    }
   ],
   "source": [
    "l1"
   ]
  },
  {
   "cell_type": "code",
   "execution_count": 42,
   "id": "11db8e6f-f0c1-48d9-9bc5-aac0365198e6",
   "metadata": {},
   "outputs": [],
   "source": [
    "l1.extend([4])"
   ]
  },
  {
   "cell_type": "code",
   "execution_count": 43,
   "id": "20704f23-3bd3-4e08-8a42-84452087c219",
   "metadata": {},
   "outputs": [
    {
     "data": {
      "text/plain": [
       "[1, 2, 3, 4]"
      ]
     },
     "execution_count": 43,
     "metadata": {},
     "output_type": "execute_result"
    }
   ],
   "source": [
    "l1"
   ]
  },
  {
   "cell_type": "code",
   "execution_count": 49,
   "id": "44191e6b-79aa-48bc-8c08-f405ecb0a694",
   "metadata": {},
   "outputs": [],
   "source": [
    "l1.insert(0,'durgesh')"
   ]
  },
  {
   "cell_type": "code",
   "execution_count": 50,
   "id": "4a0225bf-f0f1-4c89-b1ea-ffc6425f5ef9",
   "metadata": {},
   "outputs": [
    {
     "data": {
      "text/plain": [
       "['durgesh', 1, 2, 3, 4]"
      ]
     },
     "execution_count": 50,
     "metadata": {},
     "output_type": "execute_result"
    }
   ],
   "source": [
    "l1"
   ]
  },
  {
   "cell_type": "code",
   "execution_count": 52,
   "id": "51853261-deb6-4174-bf95-2bc7b69bc7bc",
   "metadata": {},
   "outputs": [],
   "source": [
    "l1.insert(0,[4,5,6])"
   ]
  },
  {
   "cell_type": "code",
   "execution_count": 53,
   "id": "f13ee6c6-acd7-45b5-b1a7-e2d0c4b46499",
   "metadata": {},
   "outputs": [
    {
     "data": {
      "text/plain": [
       "[[4, 5, 6], 'durgesh', 1, 2, 3, 4]"
      ]
     },
     "execution_count": 53,
     "metadata": {},
     "output_type": "execute_result"
    }
   ],
   "source": [
    "l1"
   ]
  },
  {
   "cell_type": "code",
   "execution_count": 54,
   "id": "892eecf9-061b-4159-9f5e-ff24cd4a9598",
   "metadata": {},
   "outputs": [],
   "source": [
    "l1.insert(-1,[500])"
   ]
  },
  {
   "cell_type": "code",
   "execution_count": 55,
   "id": "2f5e6e74-c007-46b7-a8bf-a6faf272d969",
   "metadata": {},
   "outputs": [
    {
     "data": {
      "text/plain": [
       "[[4, 5, 6], 'durgesh', 1, 2, 3, [500], 4]"
      ]
     },
     "execution_count": 55,
     "metadata": {},
     "output_type": "execute_result"
    }
   ],
   "source": [
    "l1"
   ]
  },
  {
   "cell_type": "code",
   "execution_count": 57,
   "id": "24d46942-e284-4fed-8005-03af2e510656",
   "metadata": {},
   "outputs": [
    {
     "data": {
      "text/plain": [
       "[500]"
      ]
     },
     "execution_count": 57,
     "metadata": {},
     "output_type": "execute_result"
    }
   ],
   "source": [
    "l1.pop(5)"
   ]
  },
  {
   "cell_type": "code",
   "execution_count": 58,
   "id": "368819c1-6f72-4068-86a8-33749d8f7ecf",
   "metadata": {},
   "outputs": [
    {
     "data": {
      "text/plain": [
       "[[4, 5, 6], 'durgesh', 1, 2, 3, 4]"
      ]
     },
     "execution_count": 58,
     "metadata": {},
     "output_type": "execute_result"
    }
   ],
   "source": [
    "l1"
   ]
  },
  {
   "cell_type": "code",
   "execution_count": 59,
   "id": "088eb547-29f3-4577-aefc-eb853e441d20",
   "metadata": {},
   "outputs": [
    {
     "data": {
      "text/plain": [
       "'durgesh'"
      ]
     },
     "execution_count": 59,
     "metadata": {},
     "output_type": "execute_result"
    }
   ],
   "source": [
    "l1.pop(1)"
   ]
  },
  {
   "cell_type": "code",
   "execution_count": 60,
   "id": "bb528f9b-6b64-4ba9-9752-6ceca69709d5",
   "metadata": {},
   "outputs": [
    {
     "data": {
      "text/plain": [
       "[[4, 5, 6], 1, 2, 3, 4]"
      ]
     },
     "execution_count": 60,
     "metadata": {},
     "output_type": "execute_result"
    }
   ],
   "source": [
    "l1"
   ]
  },
  {
   "cell_type": "code",
   "execution_count": 13,
   "id": "60193add-a6b7-42ae-90a9-7cd280e9e334",
   "metadata": {},
   "outputs": [],
   "source": [
    "l=[\"a\",1,2,3,True,45.5,[8,7,9],\"monu\"]"
   ]
  },
  {
   "cell_type": "code",
   "execution_count": 14,
   "id": "8ab0dc39-beff-4f41-93f3-af1039160265",
   "metadata": {},
   "outputs": [
    {
     "data": {
      "text/plain": [
       "['a', 1, 2, 3, True, 45.5, [8, 7, 9], 'monu']"
      ]
     },
     "execution_count": 14,
     "metadata": {},
     "output_type": "execute_result"
    }
   ],
   "source": [
    "l"
   ]
  },
  {
   "cell_type": "code",
   "execution_count": 15,
   "id": "df593364-a9e2-48b9-a6dd-769f57d943b6",
   "metadata": {},
   "outputs": [],
   "source": [
    "l.remove(3)"
   ]
  },
  {
   "cell_type": "code",
   "execution_count": 16,
   "id": "8ff41f9c-2081-4bdc-a9f9-852ef0bf86ca",
   "metadata": {},
   "outputs": [
    {
     "data": {
      "text/plain": [
       "['a', 1, 2, True, 45.5, [8, 7, 9], 'monu']"
      ]
     },
     "execution_count": 16,
     "metadata": {},
     "output_type": "execute_result"
    }
   ],
   "source": [
    "l"
   ]
  },
  {
   "cell_type": "code",
   "execution_count": 24,
   "id": "37d97de0-a44c-432f-a131-faf59af616de",
   "metadata": {},
   "outputs": [],
   "source": [
    "l[5].remove(7)"
   ]
  },
  {
   "cell_type": "code",
   "execution_count": 25,
   "id": "c37efa97-53f3-4caa-9738-934883a2fe62",
   "metadata": {},
   "outputs": [
    {
     "data": {
      "text/plain": [
       "['a', 1, 2, True, 45.5, [8, 9], 'monu', 6]"
      ]
     },
     "execution_count": 25,
     "metadata": {},
     "output_type": "execute_result"
    }
   ],
   "source": [
    "l"
   ]
  },
  {
   "cell_type": "code",
   "execution_count": 27,
   "id": "83bdce6c-19a2-4dc8-89a7-b6d1756d0e48",
   "metadata": {},
   "outputs": [
    {
     "ename": "AttributeError",
     "evalue": "'str' object has no attribute 'remove'",
     "output_type": "error",
     "traceback": [
      "\u001b[0;31m---------------------------------------------------------------------------\u001b[0m",
      "\u001b[0;31mAttributeError\u001b[0m                            Traceback (most recent call last)",
      "Cell \u001b[0;32mIn[27], line 1\u001b[0m\n\u001b[0;32m----> 1\u001b[0m \u001b[43ml\u001b[49m\u001b[43m[\u001b[49m\u001b[38;5;241;43m6\u001b[39;49m\u001b[43m]\u001b[49m\u001b[38;5;241;43m.\u001b[39;49m\u001b[43mremove\u001b[49m(\u001b[38;5;241m2\u001b[39m)\n",
      "\u001b[0;31mAttributeError\u001b[0m: 'str' object has no attribute 'remove'"
     ]
    }
   ],
   "source": [
    "l[6].remove(2)"
   ]
  },
  {
   "cell_type": "code",
   "execution_count": 28,
   "id": "551c3268-d291-47fa-9bc9-e44d95f7cbd9",
   "metadata": {},
   "outputs": [
    {
     "data": {
      "text/plain": [
       "['a', 1, 2, True, 45.5, [8, 9], 'monu', 6]"
      ]
     },
     "execution_count": 28,
     "metadata": {},
     "output_type": "execute_result"
    }
   ],
   "source": [
    "l"
   ]
  },
  {
   "cell_type": "code",
   "execution_count": 29,
   "id": "4ae0726d-938b-4dd7-8c9a-b975f9f37b26",
   "metadata": {},
   "outputs": [
    {
     "data": {
      "text/plain": [
       "[6, 'monu', [8, 9], 45.5, True, 2, 1, 'a']"
      ]
     },
     "execution_count": 29,
     "metadata": {},
     "output_type": "execute_result"
    }
   ],
   "source": [
    "l[::-1]"
   ]
  },
  {
   "cell_type": "code",
   "execution_count": 30,
   "id": "1c5b23b6-1e41-4ab5-839d-b1b5b3426e46",
   "metadata": {},
   "outputs": [],
   "source": [
    "l.reverse()"
   ]
  },
  {
   "cell_type": "code",
   "execution_count": 31,
   "id": "1a782b80-431d-4ef5-9270-2ab78fc2e330",
   "metadata": {},
   "outputs": [
    {
     "data": {
      "text/plain": [
       "[6, 'monu', [8, 9], 45.5, True, 2, 1, 'a']"
      ]
     },
     "execution_count": 31,
     "metadata": {},
     "output_type": "execute_result"
    }
   ],
   "source": [
    "l"
   ]
  },
  {
   "cell_type": "code",
   "execution_count": 32,
   "id": "3873c9b7-1b7f-48e8-bfff-53ab2d2ff372",
   "metadata": {},
   "outputs": [],
   "source": [
    "l2=[4,5,8,6,7]"
   ]
  },
  {
   "cell_type": "code",
   "execution_count": 33,
   "id": "0d2aec3a-52a9-44f7-9024-fc1ba58128e9",
   "metadata": {},
   "outputs": [],
   "source": [
    "l2.sort()"
   ]
  },
  {
   "cell_type": "code",
   "execution_count": 34,
   "id": "b8d39d4d-ebbe-4f39-8edf-0282394c3058",
   "metadata": {},
   "outputs": [
    {
     "data": {
      "text/plain": [
       "[4, 5, 6, 7, 8]"
      ]
     },
     "execution_count": 34,
     "metadata": {},
     "output_type": "execute_result"
    }
   ],
   "source": [
    "l2"
   ]
  },
  {
   "cell_type": "code",
   "execution_count": 35,
   "id": "d56052b1-54ef-457f-844e-1e72d7aff5ee",
   "metadata": {},
   "outputs": [],
   "source": [
    "l3=[\"monu\",\"data sicence\",\"math\",\"english\"]"
   ]
  },
  {
   "cell_type": "code",
   "execution_count": 36,
   "id": "3331ceab-a74d-431a-bb4a-df90cdf5146c",
   "metadata": {},
   "outputs": [],
   "source": [
    "l3.sort()"
   ]
  },
  {
   "cell_type": "code",
   "execution_count": 37,
   "id": "85a08e93-7ffa-4536-8f98-d89004ea437e",
   "metadata": {},
   "outputs": [
    {
     "data": {
      "text/plain": [
       "['data sicence', 'english', 'math', 'monu']"
      ]
     },
     "execution_count": 37,
     "metadata": {},
     "output_type": "execute_result"
    }
   ],
   "source": [
    "l3"
   ]
  },
  {
   "cell_type": "code",
   "execution_count": 40,
   "id": "eb90079e-7b13-431a-9b0b-2126a98de0da",
   "metadata": {},
   "outputs": [],
   "source": [
    "l3.sort(reverse=True)"
   ]
  },
  {
   "cell_type": "code",
   "execution_count": 41,
   "id": "d02e3a05-2c0f-4940-b642-6ea4b20c535f",
   "metadata": {},
   "outputs": [
    {
     "data": {
      "text/plain": [
       "['monu', 'math', 'english', 'data sicence']"
      ]
     },
     "execution_count": 41,
     "metadata": {},
     "output_type": "execute_result"
    }
   ],
   "source": [
    "l3"
   ]
  },
  {
   "cell_type": "code",
   "execution_count": 43,
   "id": "644e2b3a-5306-44ab-9544-5d87097c746a",
   "metadata": {},
   "outputs": [
    {
     "data": {
      "text/plain": [
       "1"
      ]
     },
     "execution_count": 43,
     "metadata": {},
     "output_type": "execute_result"
    }
   ],
   "source": [
    "l3.index(\"math\")"
   ]
  },
  {
   "cell_type": "code",
   "execution_count": 46,
   "id": "fa68d42f-13b0-48f4-8457-eb490e536305",
   "metadata": {},
   "outputs": [
    {
     "data": {
      "text/plain": [
       "1"
      ]
     },
     "execution_count": 46,
     "metadata": {},
     "output_type": "execute_result"
    }
   ],
   "source": [
    "l3.count(\"english\")"
   ]
  },
  {
   "cell_type": "code",
   "execution_count": 47,
   "id": "8282c74d-8834-4612-9f6b-bf021eda4615",
   "metadata": {},
   "outputs": [],
   "source": [
    "a=\"monu\""
   ]
  },
  {
   "cell_type": "code",
   "execution_count": 48,
   "id": "43a99967-99a5-48f9-882e-77ddb350789d",
   "metadata": {},
   "outputs": [
    {
     "ename": "TypeError",
     "evalue": "'str' object does not support item assignment",
     "output_type": "error",
     "traceback": [
      "\u001b[0;31m---------------------------------------------------------------------------\u001b[0m",
      "\u001b[0;31mTypeError\u001b[0m                                 Traceback (most recent call last)",
      "Cell \u001b[0;32mIn[48], line 1\u001b[0m\n\u001b[0;32m----> 1\u001b[0m \u001b[43ma\u001b[49m\u001b[43m[\u001b[49m\u001b[38;5;241;43m0\u001b[39;49m\u001b[43m]\u001b[49m\u001b[38;5;241m=\u001b[39m\u001b[38;5;124m\"\u001b[39m\u001b[38;5;124msomu\u001b[39m\u001b[38;5;124m\"\u001b[39m\n",
      "\u001b[0;31mTypeError\u001b[0m: 'str' object does not support item assignment"
     ]
    }
   ],
   "source": [
    "a[0]=\"somu\""
   ]
  },
  {
   "cell_type": "code",
   "execution_count": 49,
   "id": "7f3e2665-e29a-4095-9f9e-8cb03efa490e",
   "metadata": {},
   "outputs": [],
   "source": [
    "b=552"
   ]
  },
  {
   "cell_type": "code",
   "execution_count": 51,
   "id": "46a347e1-2efb-4c87-9af9-e07339380c6a",
   "metadata": {},
   "outputs": [
    {
     "ename": "TypeError",
     "evalue": "'int' object does not support item assignment",
     "output_type": "error",
     "traceback": [
      "\u001b[0;31m---------------------------------------------------------------------------\u001b[0m",
      "\u001b[0;31mTypeError\u001b[0m                                 Traceback (most recent call last)",
      "Cell \u001b[0;32mIn[51], line 1\u001b[0m\n\u001b[0;32m----> 1\u001b[0m \u001b[43mb\u001b[49m\u001b[43m[\u001b[49m\u001b[38;5;241;43m0\u001b[39;49m\u001b[43m]\u001b[49m\u001b[38;5;241m=\u001b[39m\u001b[38;5;241m500\u001b[39m\n",
      "\u001b[0;31mTypeError\u001b[0m: 'int' object does not support item assignment"
     ]
    }
   ],
   "source": [
    "b[0]=500"
   ]
  },
  {
   "cell_type": "code",
   "execution_count": 53,
   "id": "95e7ee2a-a44e-4faf-a065-d7da0f040f8f",
   "metadata": {},
   "outputs": [
    {
     "data": {
      "text/plain": [
       "['monu', 'math', 'english', 'data sicence']"
      ]
     },
     "execution_count": 53,
     "metadata": {},
     "output_type": "execute_result"
    }
   ],
   "source": [
    "l3"
   ]
  },
  {
   "cell_type": "code",
   "execution_count": 54,
   "id": "03f72905-fb4f-47bf-9195-a664a9a684b1",
   "metadata": {},
   "outputs": [],
   "source": [
    "n=[1,2,3]"
   ]
  },
  {
   "cell_type": "code",
   "execution_count": 55,
   "id": "c1f9185b-c4c7-40ea-94c9-f5c1d14e5132",
   "metadata": {},
   "outputs": [],
   "source": [
    "n[0]=10"
   ]
  },
  {
   "cell_type": "code",
   "execution_count": 56,
   "id": "a18a7c30-37cc-49ed-9db3-22fa0ad13479",
   "metadata": {},
   "outputs": [
    {
     "data": {
      "text/plain": [
       "[10, 2, 3]"
      ]
     },
     "execution_count": 56,
     "metadata": {},
     "output_type": "execute_result"
    }
   ],
   "source": [
    "n"
   ]
  },
  {
   "cell_type": "code",
   "execution_count": 62,
   "id": "6bb6c906-67ed-45c9-b319-0e7698397291",
   "metadata": {},
   "outputs": [],
   "source": [
    "h=\"Durgesh\""
   ]
  },
  {
   "cell_type": "code",
   "execution_count": 63,
   "id": "acd3d422-e57e-402a-86c3-b515bfd67a7c",
   "metadata": {},
   "outputs": [
    {
     "data": {
      "text/plain": [
       "'Gurgesh'"
      ]
     },
     "execution_count": 63,
     "metadata": {},
     "output_type": "execute_result"
    }
   ],
   "source": [
    "h.replace(\"D\",\"G\")"
   ]
  },
  {
   "cell_type": "code",
   "execution_count": 64,
   "id": "a0894e97-a0bf-49ae-a8da-bb76a11168e1",
   "metadata": {},
   "outputs": [
    {
     "data": {
      "text/plain": [
       "'Durgesh'"
      ]
     },
     "execution_count": 64,
     "metadata": {},
     "output_type": "execute_result"
    }
   ],
   "source": [
    "h"
   ]
  },
  {
   "cell_type": "code",
   "execution_count": 65,
   "id": "162e10af-07ea-4ebb-91fd-bfee0dfaadd4",
   "metadata": {},
   "outputs": [],
   "source": [
    "s=(\"sunita\",1,2,3,True,45.5,[768,88.525],\"monu\")"
   ]
  },
  {
   "cell_type": "code",
   "execution_count": 66,
   "id": "4e5ec9ca-e174-412d-8c27-0519d2fbbb6b",
   "metadata": {},
   "outputs": [
    {
     "data": {
      "text/plain": [
       "tuple"
      ]
     },
     "execution_count": 66,
     "metadata": {},
     "output_type": "execute_result"
    }
   ],
   "source": [
    "type(s)"
   ]
  },
  {
   "cell_type": "code",
   "execution_count": 67,
   "id": "784abce0-212d-433f-9865-40b6dcd237d1",
   "metadata": {},
   "outputs": [
    {
     "data": {
      "text/plain": [
       "8"
      ]
     },
     "execution_count": 67,
     "metadata": {},
     "output_type": "execute_result"
    }
   ],
   "source": [
    "len(s)"
   ]
  },
  {
   "cell_type": "code",
   "execution_count": 70,
   "id": "793b0f4a-c5c4-4cc2-bb7f-59d67d4c3a5a",
   "metadata": {},
   "outputs": [
    {
     "data": {
      "text/plain": [
       "'sunita'"
      ]
     },
     "execution_count": 70,
     "metadata": {},
     "output_type": "execute_result"
    }
   ],
   "source": [
    "s[0]"
   ]
  },
  {
   "cell_type": "code",
   "execution_count": 71,
   "id": "979318f6-99f8-48ac-8afd-918f99ea8f5a",
   "metadata": {},
   "outputs": [
    {
     "data": {
      "text/plain": [
       "('monu', [768, 88.525], 45.5, True, 3, 2, 1, 'sunita')"
      ]
     },
     "execution_count": 71,
     "metadata": {},
     "output_type": "execute_result"
    }
   ],
   "source": [
    "s[::-1]"
   ]
  },
  {
   "cell_type": "code",
   "execution_count": 72,
   "id": "84d8d5e1-a0e1-40bd-a59b-b2e02878566f",
   "metadata": {},
   "outputs": [
    {
     "data": {
      "text/plain": [
       "['monu', 'math', 'english', 'data sicence']"
      ]
     },
     "execution_count": 72,
     "metadata": {},
     "output_type": "execute_result"
    }
   ],
   "source": [
    "l3"
   ]
  },
  {
   "cell_type": "code",
   "execution_count": 73,
   "id": "c3b991c0-996d-432e-bbe6-232a63e68e3c",
   "metadata": {},
   "outputs": [],
   "source": [
    "l3[1]=2555"
   ]
  },
  {
   "cell_type": "code",
   "execution_count": 74,
   "id": "e5568e99-33b9-4e8c-908e-69be0cda4458",
   "metadata": {},
   "outputs": [
    {
     "data": {
      "text/plain": [
       "['monu', 2555, 'english', 'data sicence']"
      ]
     },
     "execution_count": 74,
     "metadata": {},
     "output_type": "execute_result"
    }
   ],
   "source": [
    "l3"
   ]
  },
  {
   "cell_type": "code",
   "execution_count": 75,
   "id": "497e3ac8-1a39-4b6b-9731-fee2a4144f25",
   "metadata": {},
   "outputs": [],
   "source": [
    "s2={}"
   ]
  },
  {
   "cell_type": "code",
   "execution_count": 76,
   "id": "0ccfc761-1d5b-49e0-9419-9d82fab08412",
   "metadata": {},
   "outputs": [
    {
     "data": {
      "text/plain": [
       "dict"
      ]
     },
     "execution_count": 76,
     "metadata": {},
     "output_type": "execute_result"
    }
   ],
   "source": [
    "type(s2)"
   ]
  },
  {
   "cell_type": "code",
   "execution_count": 77,
   "id": "de747f5f-a365-4290-a5da-c99c1b0e2648",
   "metadata": {},
   "outputs": [],
   "source": [
    "s3={12,2,\"monu\"}"
   ]
  },
  {
   "cell_type": "code",
   "execution_count": 78,
   "id": "9f89ce85-c4ee-43d5-b904-0848b31e6f12",
   "metadata": {},
   "outputs": [
    {
     "data": {
      "text/plain": [
       "set"
      ]
     },
     "execution_count": 78,
     "metadata": {},
     "output_type": "execute_result"
    }
   ],
   "source": [
    "type(s3)"
   ]
  },
  {
   "cell_type": "code",
   "execution_count": 79,
   "id": "dbf865a0-8db9-42f0-af77-4e65ba21410c",
   "metadata": {},
   "outputs": [],
   "source": [
    "d4={55,66,55,}"
   ]
  },
  {
   "cell_type": "code",
   "execution_count": 80,
   "id": "9e523013-53db-4926-8cc8-e2723018547c",
   "metadata": {},
   "outputs": [
    {
     "data": {
      "text/plain": [
       "{55, 66}"
      ]
     },
     "execution_count": 80,
     "metadata": {},
     "output_type": "execute_result"
    }
   ],
   "source": [
    "d4"
   ]
  },
  {
   "cell_type": "code",
   "execution_count": 84,
   "id": "08376351-762a-47f4-9025-9e29c0475fea",
   "metadata": {},
   "outputs": [
    {
     "data": {
      "text/plain": [
       "{55, 66}"
      ]
     },
     "execution_count": 84,
     "metadata": {},
     "output_type": "execute_result"
    }
   ],
   "source": [
    "set(d4)"
   ]
  },
  {
   "cell_type": "code",
   "execution_count": 85,
   "id": "a2b2daff-99e2-4836-83ad-8fb632a6d227",
   "metadata": {},
   "outputs": [
    {
     "data": {
      "text/plain": [
       "{55, 66}"
      ]
     },
     "execution_count": 85,
     "metadata": {},
     "output_type": "execute_result"
    }
   ],
   "source": [
    "d4"
   ]
  },
  {
   "cell_type": "code",
   "execution_count": 92,
   "id": "7a9a9f62-f8ca-42f2-a7ae-0359b57cca22",
   "metadata": {},
   "outputs": [],
   "source": [
    "f1=[1,3,4,5,5,6,6,\"sudhanshu\",\"monu\",21,442,44.582,True]"
   ]
  },
  {
   "cell_type": "code",
   "execution_count": 93,
   "id": "5ca3ad6e-9d90-4e85-9b60-abcc3b66f1c4",
   "metadata": {},
   "outputs": [],
   "source": [
    "f1=list(set(f1))"
   ]
  },
  {
   "cell_type": "code",
   "execution_count": 94,
   "id": "b91ff298-1e92-483e-ad8c-644c3044b196",
   "metadata": {},
   "outputs": [
    {
     "data": {
      "text/plain": [
       "[1, 3, 4, 5, 6, 44.582, 'monu', 21, 442, 'sudhanshu']"
      ]
     },
     "execution_count": 94,
     "metadata": {},
     "output_type": "execute_result"
    }
   ],
   "source": [
    "f1"
   ]
  },
  {
   "cell_type": "code",
   "execution_count": 98,
   "id": "313236b8-81ea-49a2-b141-1f3cc18fa78f",
   "metadata": {},
   "outputs": [],
   "source": [
    "a={12,5,2,52,2,55,0,58,8,5,}"
   ]
  },
  {
   "cell_type": "code",
   "execution_count": 99,
   "id": "c8d3c3cd-0fae-4363-bf94-75f08246362a",
   "metadata": {},
   "outputs": [],
   "source": [
    "a.add(786)"
   ]
  },
  {
   "cell_type": "code",
   "execution_count": 100,
   "id": "8aa4e32a-dd7f-4896-bd35-d55038f60912",
   "metadata": {},
   "outputs": [
    {
     "data": {
      "text/plain": [
       "{0, 2, 5, 8, 12, 52, 55, 58, 786}"
      ]
     },
     "execution_count": 100,
     "metadata": {},
     "output_type": "execute_result"
    }
   ],
   "source": [
    "a"
   ]
  },
  {
   "cell_type": "code",
   "execution_count": 103,
   "id": "a867e34c-e53e-432b-bca8-4a9642d28129",
   "metadata": {},
   "outputs": [],
   "source": [
    "a.remove(12)"
   ]
  },
  {
   "cell_type": "code",
   "execution_count": 104,
   "id": "8103758c-f808-47a2-8732-600d41a848fb",
   "metadata": {},
   "outputs": [
    {
     "data": {
      "text/plain": [
       "{0, 2, 5, 8, 52, 55, 58, 786}"
      ]
     },
     "execution_count": 104,
     "metadata": {},
     "output_type": "execute_result"
    }
   ],
   "source": [
    "a"
   ]
  },
  {
   "cell_type": "code",
   "execution_count": null,
   "id": "2c858c41-4ecf-4087-a385-35a8275fb65b",
   "metadata": {},
   "outputs": [],
   "source": []
  }
 ],
 "metadata": {
  "kernelspec": {
   "display_name": "Python 3 (ipykernel)",
   "language": "python",
   "name": "python3"
  },
  "language_info": {
   "codemirror_mode": {
    "name": "ipython",
    "version": 3
   },
   "file_extension": ".py",
   "mimetype": "text/x-python",
   "name": "python",
   "nbconvert_exporter": "python",
   "pygments_lexer": "ipython3",
   "version": "3.10.8"
  }
 },
 "nbformat": 4,
 "nbformat_minor": 5
}
