{
 "cells": [
  {
   "cell_type": "code",
   "execution_count": 3,
   "id": "91e9be84-86b3-4483-ac1b-d1f63c0a1bc8",
   "metadata": {},
   "outputs": [],
   "source": [
    "import abc\n",
    "class pwskills :\n",
    "    @abc.abstractmethod\n",
    "    def studant_details (self) :\n",
    "        pass\n",
    "    @abc.abstractmethod\n",
    "    def studant_assingment (self):\n",
    "        pass\n",
    "    @abc.abstractmethod\n",
    "    def studant_marks (self) :\n",
    "        pass"
   ]
  },
  {
   "cell_type": "code",
   "execution_count": 6,
   "id": "683bb314-ef41-4c65-996b-7646371c5501",
   "metadata": {},
   "outputs": [],
   "source": [
    "class studant_details(pwskills):\n",
    "    def studant_details(self):\n",
    "        return \"this is meth for taking studant details\"\n",
    "    \n",
    "    def studant_assingment(self):\n",
    "        return \" this is meth for assing for perticualt studant\""
   ]
  },
  {
   "cell_type": "code",
   "execution_count": 8,
   "id": "8098dd86-9551-4ef6-9947-9922323d8d4d",
   "metadata": {},
   "outputs": [],
   "source": [
    "class data_science_master(pwskills):\n",
    "    \n",
    "    def studant_details(self):\n",
    "        return \"this will return a studant data science class master \"\n",
    "    \n",
    "    def studant_assingment(self):\n",
    "        return\"this will give a studant assingment details for data science master \""
   ]
  },
  {
   "cell_type": "code",
   "execution_count": 9,
   "id": "a5cce357-e00c-4bf2-ba43-c701c48da535",
   "metadata": {},
   "outputs": [
    {
     "data": {
      "text/plain": [
       "'this will return a studant data science class master '"
      ]
     },
     "execution_count": 9,
     "metadata": {},
     "output_type": "execute_result"
    }
   ],
   "source": [
    "dsm=data_science_master()\n",
    "dsm.studant_details()"
   ]
  },
  {
   "cell_type": "code",
   "execution_count": 10,
   "id": "6fe13297-12eb-4f54-bf49-a41d724b16d6",
   "metadata": {},
   "outputs": [
    {
     "data": {
      "text/plain": [
       "'this is meth for taking studant details'"
      ]
     },
     "execution_count": 10,
     "metadata": {},
     "output_type": "execute_result"
    }
   ],
   "source": [
    "sd =studant_details()\n",
    "sd.studant_details()"
   ]
  }
 ],
 "metadata": {
  "kernelspec": {
   "display_name": "Python 3 (ipykernel)",
   "language": "python",
   "name": "python3"
  },
  "language_info": {
   "codemirror_mode": {
    "name": "ipython",
    "version": 3
   },
   "file_extension": ".py",
   "mimetype": "text/x-python",
   "name": "python",
   "nbconvert_exporter": "python",
   "pygments_lexer": "ipython3",
   "version": "3.10.8"
  }
 },
 "nbformat": 4,
 "nbformat_minor": 5
}
