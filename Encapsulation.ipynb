{
 "cells": [
  {
   "cell_type": "code",
   "execution_count": 19,
   "id": "baa0ac37-d7b4-43e1-9a8e-e8a5dbbe6b78",
   "metadata": {},
   "outputs": [],
   "source": [
    "class test :\n",
    "    \n",
    "    def __init__(self,a,b):\n",
    "        self.a =a\n",
    "        self.b =b"
   ]
  },
  {
   "cell_type": "code",
   "execution_count": 20,
   "id": "25090062-e555-41bc-9383-33fd41b5dedf",
   "metadata": {},
   "outputs": [],
   "source": [
    "t = test(58,95)"
   ]
  },
  {
   "cell_type": "code",
   "execution_count": 26,
   "id": "f9343662-f332-4865-9e5f-40879886e086",
   "metadata": {},
   "outputs": [],
   "source": [
    "t.a = 425649"
   ]
  },
  {
   "cell_type": "code",
   "execution_count": 27,
   "id": "734d9ce2-538b-4901-b5bb-d7142e3882be",
   "metadata": {},
   "outputs": [
    {
     "data": {
      "text/plain": [
       "425649"
      ]
     },
     "execution_count": 27,
     "metadata": {},
     "output_type": "execute_result"
    }
   ],
   "source": [
    "t.a"
   ]
  },
  {
   "cell_type": "code",
   "execution_count": 32,
   "id": "596df012-61da-489a-891e-e064c73b3403",
   "metadata": {},
   "outputs": [],
   "source": [
    "class car :\n",
    "    \n",
    "    def __init__(self,year,make,model,speed):\n",
    "        \n",
    "        self.__year = year\n",
    "        self.__make = make\n",
    "        self.__model =model\n",
    "        self.__speed = 0\n",
    "        \n",
    "    def set_speed(self,speed) :\n",
    "        self.__speed = 0 if speed < 0 else speed \n",
    "        \n",
    "    def get_speed(self):\n",
    "        return self.__speed \n",
    "    "
   ]
  },
  {
   "cell_type": "code",
   "execution_count": 33,
   "id": "a7127437-cc65-47b3-8072-91ee4c61242b",
   "metadata": {},
   "outputs": [],
   "source": [
    "c =car(2021,\"toyota\",\"inova\",250)"
   ]
  },
  {
   "cell_type": "code",
   "execution_count": 34,
   "id": "1c3cc783-1109-43b4-8ac8-d785591ddbe7",
   "metadata": {},
   "outputs": [
    {
     "data": {
      "text/plain": [
       "2021"
      ]
     },
     "execution_count": 34,
     "metadata": {},
     "output_type": "execute_result"
    }
   ],
   "source": [
    "c._car__year"
   ]
  },
  {
   "cell_type": "code",
   "execution_count": 41,
   "id": "2844b3c0-f7a3-400b-9e72-74f9f8e1363f",
   "metadata": {},
   "outputs": [],
   "source": [
    "c.set_speed(550)"
   ]
  },
  {
   "cell_type": "code",
   "execution_count": 42,
   "id": "7dce0ea6-12c1-4257-a823-d58c16aa0c87",
   "metadata": {},
   "outputs": [
    {
     "data": {
      "text/plain": [
       "550"
      ]
     },
     "execution_count": 42,
     "metadata": {},
     "output_type": "execute_result"
    }
   ],
   "source": [
    "c.get_speed()"
   ]
  },
  {
   "cell_type": "code",
   "execution_count": 67,
   "id": "3f83d0d5-14af-4444-961d-055816f1e08a",
   "metadata": {},
   "outputs": [],
   "source": [
    "class bank_account :\n",
    "    \n",
    "    def __init__(self, balance):\n",
    "        self.__balance = balance\n",
    "        \n",
    "    def deposit(self,amount):\n",
    "        self.__balance = self.__balance + amount\n",
    "    \n",
    "    def withdrow(self ,amount):\n",
    "        if self.__balance >= amount :\n",
    "            self.__balance = self.__balance - amonut\n",
    "            return True \n",
    "        else :\n",
    "            return False\n",
    "    def  get_balance(self):\n",
    "            return self.__balance"
   ]
  },
  {
   "cell_type": "code",
   "execution_count": 68,
   "id": "ec19c047-c89c-4b3b-9039-ff9004298e73",
   "metadata": {},
   "outputs": [],
   "source": [
    "durgesh = bank_account(1000)"
   ]
  },
  {
   "cell_type": "code",
   "execution_count": 69,
   "id": "bde51167-cf68-4c07-aa5f-6b587576b25d",
   "metadata": {},
   "outputs": [
    {
     "data": {
      "text/plain": [
       "1000"
      ]
     },
     "execution_count": 69,
     "metadata": {},
     "output_type": "execute_result"
    }
   ],
   "source": [
    "durgesh.get_balance()"
   ]
  },
  {
   "cell_type": "code",
   "execution_count": 70,
   "id": "a0cb1c49-bdcb-4ba3-8955-1607f6bb3614",
   "metadata": {},
   "outputs": [],
   "source": [
    "durgesh.deposit(7000)"
   ]
  },
  {
   "cell_type": "code",
   "execution_count": 71,
   "id": "5b3f5438-ff5a-46a1-83eb-e93585bdd9fc",
   "metadata": {},
   "outputs": [
    {
     "data": {
      "text/plain": [
       "8000"
      ]
     },
     "execution_count": 71,
     "metadata": {},
     "output_type": "execute_result"
    }
   ],
   "source": [
    "durgesh.get_balance()"
   ]
  },
  {
   "cell_type": "code",
   "execution_count": 72,
   "id": "7f373309-6f15-48c8-bc04-defae259b21f",
   "metadata": {},
   "outputs": [
    {
     "data": {
      "text/plain": [
       "False"
      ]
     },
     "execution_count": 72,
     "metadata": {},
     "output_type": "execute_result"
    }
   ],
   "source": [
    "durgesh.withdrow(9000)"
   ]
  },
  {
   "cell_type": "code",
   "execution_count": null,
   "id": "66b96f25-2b88-4655-9718-7f58a8bab966",
   "metadata": {},
   "outputs": [],
   "source": []
  }
 ],
 "metadata": {
  "kernelspec": {
   "display_name": "Python 3 (ipykernel)",
   "language": "python",
   "name": "python3"
  },
  "language_info": {
   "codemirror_mode": {
    "name": "ipython",
    "version": 3
   },
   "file_extension": ".py",
   "mimetype": "text/x-python",
   "name": "python",
   "nbconvert_exporter": "python",
   "pygments_lexer": "ipython3",
   "version": "3.10.8"
  }
 },
 "nbformat": 4,
 "nbformat_minor": 5
}
