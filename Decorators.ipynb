{
 "cells": [
  {
   "cell_type": "code",
   "execution_count": 3,
   "id": "11decd1c-c3dd-4dfe-9bde-d82badf99308",
   "metadata": {},
   "outputs": [],
   "source": [
    "def test() :\n",
    "    print (\"this is the strat of my  fun \")\n",
    "    print (\"this is my test fun to test\")\n",
    "    print (\"this is the end of my fun\")"
   ]
  },
  {
   "cell_type": "code",
   "execution_count": 4,
   "id": "f6276ec2-72e0-441e-bef3-3ebca3ad779b",
   "metadata": {},
   "outputs": [
    {
     "name": "stdout",
     "output_type": "stream",
     "text": [
      "this is the strat of my  fun \n",
      "this is my test fun to test\n",
      "this is the end of my fun\n"
     ]
    }
   ],
   "source": [
    "test()"
   ]
  },
  {
   "cell_type": "code",
   "execution_count": 5,
   "id": "ad0369d1-086e-43c7-befb-ee8ed5b66817",
   "metadata": {},
   "outputs": [],
   "source": [
    "def deco (func):\n",
    "    def inner_deco():\n",
    "        print (\"this is the strat of my  fun \")\n",
    "        func()\n",
    "        print (\"this is the end of my fun\")\n",
    "            \n",
    "    return inner_deco\n",
    "        \n",
    "        "
   ]
  },
  {
   "cell_type": "code",
   "execution_count": 6,
   "id": "d16a324e-428d-4711-921a-f0a251b5d136",
   "metadata": {},
   "outputs": [],
   "source": [
    "@deco\n",
    "def test1 ():\n",
    "    print(6+5)"
   ]
  },
  {
   "cell_type": "code",
   "execution_count": 7,
   "id": "26676984-df2a-4220-a67a-660647a615e5",
   "metadata": {},
   "outputs": [
    {
     "name": "stdout",
     "output_type": "stream",
     "text": [
      "this is the strat of my  fun \n",
      "11\n",
      "this is the end of my fun\n"
     ]
    }
   ],
   "source": [
    "test1()"
   ]
  },
  {
   "cell_type": "code",
   "execution_count": 14,
   "id": "71a714c0-96f1-49ca-9767-dc943587df9f",
   "metadata": {},
   "outputs": [],
   "source": [
    "import time\n",
    "\n",
    "def timer_test(func):\n",
    "    def timer_test_inner():\n",
    "        start = time.time()\n",
    "        func()\n",
    "        end = time.time()\n",
    "        print(end - start)\n",
    "    return timer_test_inner"
   ]
  },
  {
   "cell_type": "code",
   "execution_count": 15,
   "id": "96eeaa30-7aa8-464d-8c09-046370a89651",
   "metadata": {},
   "outputs": [],
   "source": [
    "def test2():\n",
    "    print(58+56)"
   ]
  },
  {
   "cell_type": "code",
   "execution_count": 16,
   "id": "69f79e86-701a-4056-b6cb-f57e4e238c89",
   "metadata": {},
   "outputs": [
    {
     "name": "stdout",
     "output_type": "stream",
     "text": [
      "114\n"
     ]
    }
   ],
   "source": [
    "test2()"
   ]
  },
  {
   "cell_type": "code",
   "execution_count": 17,
   "id": "b1966799-ccd8-4484-a40e-89cefefd243c",
   "metadata": {},
   "outputs": [],
   "source": [
    "@timer_test\n",
    "\n",
    "def test2 ():\n",
    "    print(58+56)"
   ]
  },
  {
   "cell_type": "code",
   "execution_count": 18,
   "id": "1db1428e-3d1c-4fc0-b3d6-949ca32b0e9a",
   "metadata": {},
   "outputs": [
    {
     "name": "stdout",
     "output_type": "stream",
     "text": [
      "114\n",
      "4.38690185546875e-05\n"
     ]
    }
   ],
   "source": [
    "test2()"
   ]
  },
  {
   "cell_type": "code",
   "execution_count": null,
   "id": "f5f0398f-8c4d-4a8d-9272-cc91fbaebb4d",
   "metadata": {},
   "outputs": [],
   "source": [
    "@timer_test\n",
    "def test():\n",
    "    for i in range(100000000000000000):\n",
    "        pass"
   ]
  },
  {
   "cell_type": "code",
   "execution_count": null,
   "id": "2fcf8ea7-db57-4afc-b303-4dc14d20b88a",
   "metadata": {},
   "outputs": [],
   "source": [
    "test()"
   ]
  },
  {
   "cell_type": "code",
   "execution_count": null,
   "id": "289cdd42-1f52-4e86-b43b-f8c01af57110",
   "metadata": {},
   "outputs": [],
   "source": []
  }
 ],
 "metadata": {
  "kernelspec": {
   "display_name": "Python 3 (ipykernel)",
   "language": "python",
   "name": "python3"
  },
  "language_info": {
   "codemirror_mode": {
    "name": "ipython",
    "version": 3
   },
   "file_extension": ".py",
   "mimetype": "text/x-python",
   "name": "python",
   "nbconvert_exporter": "python",
   "pygments_lexer": "ipython3",
   "version": "3.10.8"
  }
 },
 "nbformat": 4,
 "nbformat_minor": 5
}
