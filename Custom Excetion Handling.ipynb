{
 "cells": [
  {
   "cell_type": "code",
   "execution_count": null,
   "id": "1dc616e5-9108-4d0a-aab3-a9568a76d25f",
   "metadata": {},
   "outputs": [],
   "source": [
    "age = int(input(\"Eneter your age \"))"
   ]
  },
  {
   "cell_type": "code",
   "execution_count": 2,
   "id": "c4225202-c860-43dc-84da-4a812109b900",
   "metadata": {},
   "outputs": [],
   "source": [
    "class validateAgeError (Exception):\n",
    "    \n",
    "    def __init__(self,msg):\n",
    "        self.msg = msg"
   ]
  },
  {
   "cell_type": "code",
   "execution_count": 7,
   "id": "259ff2f1-f04c-4eec-bb94-2977f3ab8e25",
   "metadata": {},
   "outputs": [
    {
     "name": "stdin",
     "output_type": "stream",
     "text": [
      "Eneter your age  -3453\n"
     ]
    },
    {
     "name": "stdout",
     "output_type": "stream",
     "text": [
      "entered age is nagative\n"
     ]
    }
   ],
   "source": [
    "\"\"\"When raising an exception, you should use the built-in ValueError class or create a custom exception by subclassing Exception. \n",
    "It seems like you intended to create a custom exception called validateage, but you need to define it first.\n",
    "If the age is valid, you should return a value or perform some action instead of just printing a message. \n",
    "It's generally better to separate the logic of checking validity from the actual action to be taken based on the result.\"\"\"\"\n",
    "def validateAge(age):\n",
    "    if age <0 :\n",
    "        raise validateAgeError(\"entered age is nagative\" )\n",
    "    elif age > 200 :\n",
    "        raise validateAgeError (\"enterd age is very very high \" )\n",
    "    else :\n",
    "        print (\"age is vaild\")\n",
    "        \n",
    "try :\n",
    "    age = int(input(\"Eneter your age \"))\n",
    "    validateAge(age)\n",
    "except validateAgeError as e :\n",
    "    print(e)"
   ]
  },
  {
   "cell_type": "code",
   "execution_count": null,
   "id": "0ead3617-9a76-408c-bec2-93c173f76d1e",
   "metadata": {},
   "outputs": [],
   "source": []
  }
 ],
 "metadata": {
  "kernelspec": {
   "display_name": "Python 3 (ipykernel)",
   "language": "python",
   "name": "python3"
  },
  "language_info": {
   "codemirror_mode": {
    "name": "ipython",
    "version": 3
   },
   "file_extension": ".py",
   "mimetype": "text/x-python",
   "name": "python",
   "nbconvert_exporter": "python",
   "pygments_lexer": "ipython3",
   "version": "3.10.8"
  }
 },
 "nbformat": 4,
 "nbformat_minor": 5
}
