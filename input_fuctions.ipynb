{
 "cells": [
  {
   "cell_type": "code",
   "execution_count": 1,
   "id": "a59b32f7-3273-465a-a420-904e6b3e08ed",
   "metadata": {},
   "outputs": [
    {
     "data": {
      "text/plain": [
       "3"
      ]
     },
     "execution_count": 1,
     "metadata": {},
     "output_type": "execute_result"
    }
   ],
   "source": [
    "2+1"
   ]
  },
  {
   "cell_type": "code",
   "execution_count": 3,
   "id": "ab6d7723-efa8-465e-9bbe-7aa8e3cc0593",
   "metadata": {},
   "outputs": [
    {
     "name": "stdout",
     "output_type": "stream",
     "text": [
      "You will be part of A1 batch\n"
     ]
    }
   ],
   "source": [
    "marks = 95\n",
    "\n",
    "if marks >= 100:\n",
    "    print(\"You will be part of A0 batch\")\n",
    "elif marks >= 60 and marks < 100:\n",
    "    print(\"You will be part of A1 batch\")\n",
    "elif marks >= 40 and marks < 60:\n",
    "    print(\"You will be part of A2 batch\")\n",
    "else:\n",
    "    print(\"You will be part of A3 batch\")"
   ]
  },
  {
   "cell_type": "code",
   "execution_count": 5,
   "id": "e401898a-3068-47aa-9708-752e39609e22",
   "metadata": {},
   "outputs": [
    {
     "name": "stdin",
     "output_type": "stream",
     "text": [
      "marks all betch 58\n"
     ]
    },
    {
     "name": "stdout",
     "output_type": "stream",
     "text": [
      "You will be part of A2 batch\n"
     ]
    }
   ],
   "source": [
    "marks = int(input(\"marks all betch\"))\n",
    "\n",
    "if marks >= 100:\n",
    "    print(\"You will be part of A0 batch\")\n",
    "elif marks >= 60 and marks < 100:\n",
    "    print(\"You will be part of A1 batch\")\n",
    "elif marks >= 40 and marks < 60:\n",
    "    print(\"You will be part of A2 batch\")\n",
    "else:\n",
    "    print(\"You will be part of A3 batch\")"
   ]
  },
  {
   "cell_type": "code",
   "execution_count": 2,
   "id": "8effe42c-23b5-41dc-b663-af681c82b1b8",
   "metadata": {},
   "outputs": [
    {
     "name": "stdin",
     "output_type": "stream",
     "text": [
      "Salect City: 345\n"
     ]
    },
    {
     "name": "stdout",
     "output_type": "stream",
     "text": [
      "i will purchese .\n"
     ]
    }
   ],
   "source": [
    "amount= int (input(\"Salect City:\"))\n",
    "if amount > 5000:\n",
    "        print( \" i will not purchese.\")\n",
    "else :\n",
    "        print(\"i will purchese .\")"
   ]
  },
  {
   "cell_type": "code",
   "execution_count": 22,
   "id": "f2b1e586-3a88-4eb4-9158-cdd6baf10899",
   "metadata": {},
   "outputs": [
    {
     "name": "stdin",
     "output_type": "stream",
     "text": [
      "Select City:  652\n"
     ]
    },
    {
     "name": "stdout",
     "output_type": "stream",
     "text": [
      "I will purchase.\n"
     ]
    }
   ],
   "source": [
    "price = int(input(\"Select City: \"))\n",
    "if price > 5000:\n",
    "    print(\"I will not purchase.\")\n",
    "else:\n",
    "    print(\"I will purchase.\")"
   ]
  },
  {
   "cell_type": "code",
   "execution_count": 23,
   "id": "5895b0de-0167-4d7f-a66a-477e62c829b3",
   "metadata": {},
   "outputs": [
    {
     "name": "stdin",
     "output_type": "stream",
     "text": [
      "Select City:  7000\n"
     ]
    },
    {
     "name": "stdout",
     "output_type": "stream",
     "text": [
      "I will not purchase.\n",
      " to much\n"
     ]
    }
   ],
   "source": [
    "price = int(input(\"Select City: \"))\n",
    "if price > 5000:\n",
    "    print(\"I will not purchase.\")\n",
    "if price > 5000 :\n",
    "    print(\" to much\")"
   ]
  },
  {
   "cell_type": "code",
   "execution_count": null,
   "id": "cc165d5d-00ea-42bc-95e3-0012c4bdbfba",
   "metadata": {},
   "outputs": [],
   "source": []
  }
 ],
 "metadata": {
  "kernelspec": {
   "display_name": "Python 3 (ipykernel)",
   "language": "python",
   "name": "python3"
  },
  "language_info": {
   "codemirror_mode": {
    "name": "ipython",
    "version": 3
   },
   "file_extension": ".py",
   "mimetype": "text/x-python",
   "name": "python",
   "nbconvert_exporter": "python",
   "pygments_lexer": "ipython3",
   "version": "3.10.8"
  }
 },
 "nbformat": 4,
 "nbformat_minor": 5
}
