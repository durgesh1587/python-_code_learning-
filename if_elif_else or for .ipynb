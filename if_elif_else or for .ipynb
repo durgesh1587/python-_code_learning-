{
 "cells": [
  {
   "cell_type": "code",
   "execution_count": 1,
   "id": "a59b32f7-3273-465a-a420-904e6b3e08ed",
   "metadata": {},
   "outputs": [
    {
     "data": {
      "text/plain": [
       "3"
      ]
     },
     "execution_count": 1,
     "metadata": {},
     "output_type": "execute_result"
    }
   ],
   "source": [
    "2+1"
   ]
  },
  {
   "cell_type": "code",
   "execution_count": 3,
   "id": "ab6d7723-efa8-465e-9bbe-7aa8e3cc0593",
   "metadata": {},
   "outputs": [
    {
     "name": "stdout",
     "output_type": "stream",
     "text": [
      "You will be part of A1 batch\n"
     ]
    }
   ],
   "source": [
    "marks = 95\n",
    "\n",
    "if marks >= 100:\n",
    "    print(\"You will be part of A0 batch\")\n",
    "elif marks >= 60 and marks < 100:\n",
    "    print(\"You will be part of A1 batch\")\n",
    "elif marks >= 40 and marks < 60:\n",
    "    print(\"You will be part of A2 batch\")\n",
    "else:\n",
    "    print(\"You will be part of A3 batch\")"
   ]
  },
  {
   "cell_type": "code",
   "execution_count": 5,
   "id": "e401898a-3068-47aa-9708-752e39609e22",
   "metadata": {},
   "outputs": [
    {
     "name": "stdin",
     "output_type": "stream",
     "text": [
      "marks all betch 58\n"
     ]
    },
    {
     "name": "stdout",
     "output_type": "stream",
     "text": [
      "You will be part of A2 batch\n"
     ]
    }
   ],
   "source": [
    "marks = int(input(\"marks all betch\"))\n",
    "\n",
    "if marks >= 100:\n",
    "    print(\"You will be part of A0 batch\")\n",
    "elif marks >= 60 and marks < 100:\n",
    "    print(\"You will be part of A1 batch\")\n",
    "elif marks >= 40 and marks < 60:\n",
    "    print(\"You will be part of A2 batch\")\n",
    "else:\n",
    "    print(\"You will be part of A3 batch\")"
   ]
  },
  {
   "cell_type": "code",
   "execution_count": null,
   "id": "8effe42c-23b5-41dc-b663-af681c82b1b8",
   "metadata": {},
   "outputs": [],
   "source": [
    "amount= int (input(\"Salect City:\"))\n",
    "\n",
    "if amount > 5000:\n",
    "        print( \" i will not purchese.\")\n",
    "else :\n",
    "        print(\"i will purchese .\")"
   ]
  },
  {
   "cell_type": "code",
   "execution_count": 22,
   "id": "f2b1e586-3a88-4eb4-9158-cdd6baf10899",
   "metadata": {},
   "outputs": [
    {
     "name": "stdin",
     "output_type": "stream",
     "text": [
      "Select City:  652\n"
     ]
    },
    {
     "name": "stdout",
     "output_type": "stream",
     "text": [
      "I will purchase.\n"
     ]
    }
   ],
   "source": [
    "price = int(input(\"Select City: \"))\n",
    "if price > 5000:\n",
    "    print(\"I will not purchase.\")\n",
    "else:\n",
    "    print(\"I will purchase.\")"
   ]
  },
  {
   "cell_type": "code",
   "execution_count": 23,
   "id": "5895b0de-0167-4d7f-a66a-477e62c829b3",
   "metadata": {},
   "outputs": [
    {
     "name": "stdin",
     "output_type": "stream",
     "text": [
      "Select City:  7000\n"
     ]
    },
    {
     "name": "stdout",
     "output_type": "stream",
     "text": [
      "I will not purchase.\n",
      " to much\n"
     ]
    }
   ],
   "source": [
    "price = int(input(\"Select City: \"))\n",
    "if price > 5000:\n",
    "    print(\"I will not purchase.\")\n",
    "if price > 5000 :\n",
    "    print(\" to much\")"
   ]
  },
  {
   "cell_type": "code",
   "execution_count": 13,
   "id": "dfa27c0b-04ca-4fbc-a153-d1a825399990",
   "metadata": {},
   "outputs": [
    {
     "ename": "IndentationError",
     "evalue": "unexpected indent (1099908192.py, line 2)",
     "output_type": "error",
     "traceback": [
      "\u001b[0;36m  Cell \u001b[0;32mIn[13], line 2\u001b[0;36m\u001b[0m\n\u001b[0;31m    if price > 5000:\u001b[0m\n\u001b[0m    ^\u001b[0m\n\u001b[0;31mIndentationError\u001b[0m\u001b[0;31m:\u001b[0m unexpected indent\n"
     ]
    }
   ],
   "source": [
    "sonu= int(input(\"Enter the price\"))\n",
    "    if price > 5000:\n",
    "        print(\"i will not purchese\")\n",
    "    if price  > 3000:\n",
    "        print(\"to much\")"
   ]
  },
  {
   "cell_type": "code",
   "execution_count": 8,
   "id": "0da511fe-898f-4416-a015-5981790d552b",
   "metadata": {},
   "outputs": [
    {
     "name": "stdin",
     "output_type": "stream",
     "text": [
      "Enter the price:  7550\n"
     ]
    },
    {
     "name": "stdout",
     "output_type": "stream",
     "text": [
      "I will not purchase\n",
      "Too much\n"
     ]
    }
   ],
   "source": [
    "monu = int(input(\"Enter the price: \"))\n",
    "if monu > 5000:\n",
    "    print(\"I will not purchase\")\n",
    "if monu > 3000:\n",
    "    print(\"Too much\")\n"
   ]
  },
  {
   "cell_type": "code",
   "execution_count": 14,
   "id": "5e8cdaa9-fbd4-459a-81f9-6c27a669935c",
   "metadata": {},
   "outputs": [],
   "source": [
    "l = [1,2,3,4,5,6]"
   ]
  },
  {
   "cell_type": "code",
   "execution_count": 15,
   "id": "5ee2b0c3-36f4-499a-b6ac-b37c848e665d",
   "metadata": {},
   "outputs": [
    {
     "data": {
      "text/plain": [
       "1"
      ]
     },
     "execution_count": 15,
     "metadata": {},
     "output_type": "execute_result"
    }
   ],
   "source": [
    "l[0]"
   ]
  },
  {
   "cell_type": "code",
   "execution_count": 16,
   "id": "3d224504-eb91-43c8-b57f-dfb1219c4514",
   "metadata": {},
   "outputs": [],
   "source": [
    "l.append(l [0]+1)"
   ]
  },
  {
   "cell_type": "code",
   "execution_count": 17,
   "id": "88706702-1040-467b-ae31-3b04504c820e",
   "metadata": {},
   "outputs": [
    {
     "data": {
      "text/plain": [
       "[1, 2, 3, 4, 5, 6, 2]"
      ]
     },
     "execution_count": 17,
     "metadata": {},
     "output_type": "execute_result"
    }
   ],
   "source": [
    "l"
   ]
  },
  {
   "cell_type": "code",
   "execution_count": 18,
   "id": "a0d2a0b8-f2a2-41ee-a79f-87b28b66cbc8",
   "metadata": {},
   "outputs": [
    {
     "data": {
      "text/plain": [
       "[1, 2, 3, 4, 5, 6, 2]"
      ]
     },
     "execution_count": 18,
     "metadata": {},
     "output_type": "execute_result"
    }
   ],
   "source": [
    "l"
   ]
  },
  {
   "cell_type": "code",
   "execution_count": 19,
   "id": "47d36828-82ac-4026-abed-2c504c6cd370",
   "metadata": {},
   "outputs": [],
   "source": [
    "l1 = [1,2,3,4,5,6,7,8,9]"
   ]
  },
  {
   "cell_type": "code",
   "execution_count": 20,
   "id": "b05a1ec9-5211-4307-9bee-6d4180d0803e",
   "metadata": {},
   "outputs": [
    {
     "name": "stdout",
     "output_type": "stream",
     "text": [
      "1\n",
      "2\n",
      "3\n",
      "4\n",
      "5\n",
      "6\n",
      "7\n",
      "8\n",
      "9\n"
     ]
    }
   ],
   "source": [
    "for i in l1 :\n",
    "    print(i)"
   ]
  },
  {
   "cell_type": "code",
   "execution_count": 7,
   "id": "b9983c95-e4a5-4e97-9c66-c9a90c096b38",
   "metadata": {},
   "outputs": [],
   "source": [
    "l2 = [\"shushau\",1,2,9,8,0,\"monu\",88,99,True,88.9]"
   ]
  },
  {
   "cell_type": "code",
   "execution_count": null,
   "id": "2ee87123-2d38-4aff-9950-8a8341600b82",
   "metadata": {},
   "outputs": [],
   "source": [
    "l3_num =[]\n",
    "l4_str = []\n",
    "for i in l2 :\n",
    "    if type (i) == int or type (i) == float :\n",
    "        l3_num.append (i)\n",
    "        else :\n",
    "            l4_str.append (i)"
   ]
  },
  {
   "cell_type": "code",
   "execution_count": null,
   "id": "9dbbe621-1812-461f-9937-932d159a5ea4",
   "metadata": {},
   "outputs": [],
   "source": []
  },
  {
   "cell_type": "code",
   "execution_count": null,
   "id": "878beb66-df08-40e2-8685-ddef9280c12e",
   "metadata": {},
   "outputs": [],
   "source": [
    "l3"
   ]
  },
  {
   "cell_type": "code",
   "execution_count": 8,
   "id": "57af9993-6a75-4764-9825-6d0728f20584",
   "metadata": {},
   "outputs": [],
   "source": [
    "l2 = [\"shushau\",1,2,9,8,0,\"monu\",88,99,True,88.9]"
   ]
  },
  {
   "cell_type": "code",
   "execution_count": 9,
   "id": "eacd6608-7817-4902-b9ce-0ac542e3d0f4",
   "metadata": {},
   "outputs": [
    {
     "data": {
      "text/plain": [
       "['shushau', 1, 2, 9, 8, 0, 'monu', 88, 99, True, 88.9]"
      ]
     },
     "execution_count": 9,
     "metadata": {},
     "output_type": "execute_result"
    }
   ],
   "source": [
    "l2"
   ]
  },
  {
   "cell_type": "code",
   "execution_count": 10,
   "id": "60a60e9b-df7c-4b5b-bfd2-20eb0057871a",
   "metadata": {},
   "outputs": [],
   "source": [
    "l3_num = []\n",
    "l4_str = []\n",
    "\n",
    "for i in l2:\n",
    "    if isinstance(i, (int, float)):\n",
    "        l3_num.append(i)\n",
    "    else:\n",
    "        l4_str.append(i)"
   ]
  },
  {
   "cell_type": "code",
   "execution_count": 12,
   "id": "1578b789-025a-460d-a803-4e5d020bcb5d",
   "metadata": {},
   "outputs": [
    {
     "data": {
      "text/plain": [
       "[1, 2, 9, 8, 0, 88, 99, True, 88.9]"
      ]
     },
     "execution_count": 12,
     "metadata": {},
     "output_type": "execute_result"
    }
   ],
   "source": [
    "l3_num"
   ]
  },
  {
   "cell_type": "code",
   "execution_count": 15,
   "id": "24298cee-f8a0-4e25-ab15-bbadb34a2ebb",
   "metadata": {},
   "outputs": [],
   "source": [
    "l3_num =[]\n",
    "l4_str = []\n",
    "for i in l2 :\n",
    "    if type (i) == int or type (i) == float :\n",
    "        l3_num.append (i)\n",
    "    else :\n",
    "            l4_str.append (i) "
   ]
  },
  {
   "cell_type": "code",
   "execution_count": 16,
   "id": "bee45973-3db4-4500-83fb-8031c26a1705",
   "metadata": {},
   "outputs": [
    {
     "data": {
      "text/plain": [
       "[1, 2, 9, 8, 0, 88, 99, 88.9]"
      ]
     },
     "execution_count": 16,
     "metadata": {},
     "output_type": "execute_result"
    }
   ],
   "source": [
    "l3_num"
   ]
  },
  {
   "cell_type": "code",
   "execution_count": null,
   "id": "a7cdfcc5-403a-4658-8563-9964c25944e3",
   "metadata": {},
   "outputs": [],
   "source": []
  }
 ],
 "metadata": {
  "kernelspec": {
   "display_name": "Python 3 (ipykernel)",
   "language": "python",
   "name": "python3"
  },
  "language_info": {
   "codemirror_mode": {
    "name": "ipython",
    "version": 3
   },
   "file_extension": ".py",
   "mimetype": "text/x-python",
   "name": "python",
   "nbconvert_exporter": "python",
   "pygments_lexer": "ipython3",
   "version": "3.10.8"
  }
 },
 "nbformat": 4,
 "nbformat_minor": 5
}
