{
 "cells": [
  {
   "cell_type": "code",
   "execution_count": 1,
   "id": "a7b18451-aae9-493f-b6cf-f0214d1daaa4",
   "metadata": {},
   "outputs": [],
   "source": [
    "d={}"
   ]
  },
  {
   "cell_type": "code",
   "execution_count": null,
   "id": "317c2c0d-20f2-4dc0-9bd8-0e75fa67b934",
   "metadata": {},
   "outputs": [],
   "source": []
  },
  {
   "cell_type": "code",
   "execution_count": null,
   "id": "2a1449e2-5dfb-4f34-99b0-8097fc22eb1b",
   "metadata": {},
   "outputs": [],
   "source": []
  },
  {
   "cell_type": "code",
   "execution_count": 2,
   "id": "36499c7a-8818-45e5-ba4c-ca30326e1906",
   "metadata": {},
   "outputs": [
    {
     "data": {
      "text/plain": [
       "dict"
      ]
     },
     "execution_count": 2,
     "metadata": {},
     "output_type": "execute_result"
    }
   ],
   "source": [
    "type(d)"
   ]
  },
  {
   "cell_type": "code",
   "execution_count": 4,
   "id": "6022531a-a379-47ac-87df-555ad259daba",
   "metadata": {},
   "outputs": [],
   "source": [
    "d1={'apple':\"tree\"}"
   ]
  },
  {
   "cell_type": "code",
   "execution_count": 5,
   "id": "2dcfc504-babd-4e57-8ca7-f9b88f076a90",
   "metadata": {},
   "outputs": [
    {
     "data": {
      "text/plain": [
       "{'apple': 'tree'}"
      ]
     },
     "execution_count": 5,
     "metadata": {},
     "output_type": "execute_result"
    }
   ],
   "source": [
    "d1"
   ]
  },
  {
   "cell_type": "code",
   "execution_count": 1,
   "id": "d6976ce2-8031-4002-a071-2db3f029d2bd",
   "metadata": {},
   "outputs": [],
   "source": [
    "d2={\"name\":\"durgesh\",\"email\":\"durgeshkharwar72@gmail.com\",\"age\":36,123:\"monu\"}"
   ]
  },
  {
   "cell_type": "code",
   "execution_count": 2,
   "id": "bd7e811a-f7cf-4b90-a1d9-996ae630807e",
   "metadata": {},
   "outputs": [
    {
     "data": {
      "text/plain": [
       "{'name': 'durgesh',\n",
       " 'email': 'durgeshkharwar72@gmail.com',\n",
       " 'age': 36,\n",
       " 123: 'monu'}"
      ]
     },
     "execution_count": 2,
     "metadata": {},
     "output_type": "execute_result"
    }
   ],
   "source": [
    "d2"
   ]
  },
  {
   "cell_type": "code",
   "execution_count": 3,
   "id": "f5001582-7c30-4056-bdac-57501642761f",
   "metadata": {},
   "outputs": [
    {
     "data": {
      "text/plain": [
       "'monu'"
      ]
     },
     "execution_count": 3,
     "metadata": {},
     "output_type": "execute_result"
    }
   ],
   "source": [
    "d2[123]"
   ]
  },
  {
   "cell_type": "code",
   "execution_count": 8,
   "id": "8fd2b314-4b60-406b-a8d8-a4986cb60159",
   "metadata": {},
   "outputs": [
    {
     "data": {
      "text/plain": [
       "'monu'"
      ]
     },
     "execution_count": 8,
     "metadata": {},
     "output_type": "execute_result"
    }
   ],
   "source": [
    "d2.get(123)"
   ]
  },
  {
   "cell_type": "code",
   "execution_count": 9,
   "id": "94114dcc-d85d-4b2e-8570-1ff4ee492cfb",
   "metadata": {},
   "outputs": [
    {
     "ename": "KeyError",
     "evalue": "1",
     "output_type": "error",
     "traceback": [
      "\u001b[0;31m---------------------------------------------------------------------------\u001b[0m",
      "\u001b[0;31mKeyError\u001b[0m                                  Traceback (most recent call last)",
      "Cell \u001b[0;32mIn[9], line 1\u001b[0m\n\u001b[0;32m----> 1\u001b[0m \u001b[43md2\u001b[49m\u001b[43m[\u001b[49m\u001b[38;5;241;43m1\u001b[39;49m\u001b[43m]\u001b[49m\n",
      "\u001b[0;31mKeyError\u001b[0m: 1"
     ]
    }
   ],
   "source": [
    "d2[1]"
   ]
  },
  {
   "cell_type": "code",
   "execution_count": 11,
   "id": "e1d20637-8741-41f5-8437-989bfe439743",
   "metadata": {},
   "outputs": [],
   "source": [
    "d3={\"name\":\"monu\",\"age\":30,\"name\":\"durgesh\"}"
   ]
  },
  {
   "cell_type": "code",
   "execution_count": 12,
   "id": "12ce2240-73a7-40b7-8486-916a2ce37af7",
   "metadata": {},
   "outputs": [
    {
     "data": {
      "text/plain": [
       "{'name': 'durgesh', 'age': 30}"
      ]
     },
     "execution_count": 12,
     "metadata": {},
     "output_type": "execute_result"
    }
   ],
   "source": [
    "d3"
   ]
  },
  {
   "cell_type": "code",
   "execution_count": 13,
   "id": "ef9a5e4e-1edf-4591-a9ca-ba37f3e784c1",
   "metadata": {},
   "outputs": [
    {
     "data": {
      "text/plain": [
       "'durgesh'"
      ]
     },
     "execution_count": 13,
     "metadata": {},
     "output_type": "execute_result"
    }
   ],
   "source": [
    "d3['name']"
   ]
  },
  {
   "cell_type": "code",
   "execution_count": 14,
   "id": "b2b79960-6c0c-4e07-b87d-937a6032638c",
   "metadata": {},
   "outputs": [],
   "source": [
    "delhi={\"company\":\"pwsill\",\"course\":[\"math\",\"ssc\",\"english\",\"sst\"]}"
   ]
  },
  {
   "cell_type": "code",
   "execution_count": 15,
   "id": "5d91f57a-f2fa-4821-bdea-024922c7831a",
   "metadata": {},
   "outputs": [
    {
     "data": {
      "text/plain": [
       "{'company': 'pwsill', 'course': ['math', 'ssc', 'english', 'sst']}"
      ]
     },
     "execution_count": 15,
     "metadata": {},
     "output_type": "execute_result"
    }
   ],
   "source": [
    "delhi"
   ]
  },
  {
   "cell_type": "code",
   "execution_count": 17,
   "id": "733f4863-cc7e-491a-892c-1e4977755e27",
   "metadata": {},
   "outputs": [
    {
     "data": {
      "text/plain": [
       "'ssc'"
      ]
     },
     "execution_count": 17,
     "metadata": {},
     "output_type": "execute_result"
    }
   ],
   "source": [
    "delhi[\"course\"][1]"
   ]
  },
  {
   "cell_type": "code",
   "execution_count": 5,
   "id": "98c6b30e-1996-4e6c-9557-d82be9801ac9",
   "metadata": {},
   "outputs": [],
   "source": [
    "d5={\"name\":[1,2,3],\"durgesh\":[5,6] ,\"assingment\":(7,8,9)}"
   ]
  },
  {
   "cell_type": "code",
   "execution_count": 6,
   "id": "0e154b04-e161-4a70-ac37-3e9b460d0544",
   "metadata": {},
   "outputs": [
    {
     "data": {
      "text/plain": [
       "{'name': [1, 2, 3], 'durgesh': [5, 6], 'assingment': (7, 8, 9)}"
      ]
     },
     "execution_count": 6,
     "metadata": {},
     "output_type": "execute_result"
    }
   ],
   "source": [
    "d5"
   ]
  },
  {
   "cell_type": "code",
   "execution_count": 8,
   "id": "434ce7b2-4564-45e8-b68e-ad7cdcd779c6",
   "metadata": {},
   "outputs": [
    {
     "data": {
      "text/plain": [
       "(7, 8, 9)"
      ]
     },
     "execution_count": 8,
     "metadata": {},
     "output_type": "execute_result"
    }
   ],
   "source": [
    "d5[\"assingment\"]"
   ]
  },
  {
   "cell_type": "code",
   "execution_count": 9,
   "id": "b3a01db1-f3be-456f-9f96-f5e88e028da5",
   "metadata": {},
   "outputs": [],
   "source": [
    "d5[\"class\"]=[\"math\",\"eglish\",\"hindi\"]"
   ]
  },
  {
   "cell_type": "code",
   "execution_count": 10,
   "id": "e1497a26-b3e4-4caa-9290-c7ce23483d0f",
   "metadata": {},
   "outputs": [
    {
     "data": {
      "text/plain": [
       "{'name': [1, 2, 3],\n",
       " 'durgesh': [5, 6],\n",
       " 'assingment': (7, 8, 9),\n",
       " 'class': ['math', 'eglish', 'hindi']}"
      ]
     },
     "execution_count": 10,
     "metadata": {},
     "output_type": "execute_result"
    }
   ],
   "source": [
    "d5"
   ]
  },
  {
   "cell_type": "code",
   "execution_count": 11,
   "id": "1684bbc9-a468-4f1c-8326-b44531b139a3",
   "metadata": {},
   "outputs": [],
   "source": [
    "del d5[\"name\"]"
   ]
  },
  {
   "cell_type": "code",
   "execution_count": 12,
   "id": "e1033421-0b6f-438a-991f-1c947af95e3b",
   "metadata": {},
   "outputs": [
    {
     "data": {
      "text/plain": [
       "{'durgesh': [5, 6],\n",
       " 'assingment': (7, 8, 9),\n",
       " 'class': ['math', 'eglish', 'hindi']}"
      ]
     },
     "execution_count": 12,
     "metadata": {},
     "output_type": "execute_result"
    }
   ],
   "source": [
    "d5"
   ]
  },
  {
   "cell_type": "code",
   "execution_count": 13,
   "id": "d3e507cd-db09-46b3-afcb-7509945a71d0",
   "metadata": {},
   "outputs": [
    {
     "data": {
      "text/plain": [
       "dict_keys(['durgesh', 'assingment', 'class'])"
      ]
     },
     "execution_count": 13,
     "metadata": {},
     "output_type": "execute_result"
    }
   ],
   "source": [
    "d5.keys()"
   ]
  },
  {
   "cell_type": "code",
   "execution_count": 14,
   "id": "a74cc879-b2ab-412b-aa88-411c9c73622f",
   "metadata": {},
   "outputs": [
    {
     "data": {
      "text/plain": [
       "['durgesh', 'assingment', 'class']"
      ]
     },
     "execution_count": 14,
     "metadata": {},
     "output_type": "execute_result"
    }
   ],
   "source": [
    "list(d5.keys())"
   ]
  },
  {
   "cell_type": "code",
   "execution_count": 17,
   "id": "22536392-0d1a-47f1-940f-f4f527cee009",
   "metadata": {},
   "outputs": [
    {
     "data": {
      "text/plain": [
       "[[5, 6], (7, 8, 9), ['math', 'eglish', 'hindi']]"
      ]
     },
     "execution_count": 17,
     "metadata": {},
     "output_type": "execute_result"
    }
   ],
   "source": [
    "list(d5.values())"
   ]
  },
  {
   "cell_type": "code",
   "execution_count": 19,
   "id": "6d280e28-0e14-407c-9e9c-ff6f3c6f992c",
   "metadata": {},
   "outputs": [
    {
     "data": {
      "text/plain": [
       "[('durgesh', [5, 6]),\n",
       " ('assingment', (7, 8, 9)),\n",
       " ('class', ['math', 'eglish', 'hindi'])]"
      ]
     },
     "execution_count": 19,
     "metadata": {},
     "output_type": "execute_result"
    }
   ],
   "source": [
    "list(d5.items())"
   ]
  }
 ],
 "metadata": {
  "kernelspec": {
   "display_name": "Python 3 (ipykernel)",
   "language": "python",
   "name": "python3"
  },
  "language_info": {
   "codemirror_mode": {
    "name": "ipython",
    "version": 3
   },
   "file_extension": ".py",
   "mimetype": "text/x-python",
   "name": "python",
   "nbconvert_exporter": "python",
   "pygments_lexer": "ipython3",
   "version": "3.10.8"
  }
 },
 "nbformat": 4,
 "nbformat_minor": 5
}
