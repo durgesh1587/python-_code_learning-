{
 "cells": [
  {
   "cell_type": "code",
   "execution_count": 1,
   "id": "34b4243d-37b3-4ea6-8022-0a3ac516e00a",
   "metadata": {},
   "outputs": [],
   "source": [
    "import logging"
   ]
  },
  {
   "cell_type": "code",
   "execution_count": 2,
   "id": "0f3bdb62-3432-4f32-9163-0f04c82feb2f",
   "metadata": {},
   "outputs": [],
   "source": [
    "logging.basicConfig(filename = \"test.log\",level = logging.INFO)"
   ]
  },
  {
   "cell_type": "code",
   "execution_count": 3,
   "id": "0da055b4-e514-43e8-a714-591ffaa0ca81",
   "metadata": {},
   "outputs": [],
   "source": [
    "logging.info(\"log is line executation\")"
   ]
  },
  {
   "cell_type": "code",
   "execution_count": 4,
   "id": "e2d5b221-2845-4feb-bf5b-a6e98c6ba862",
   "metadata": {},
   "outputs": [],
   "source": [
    "logging.info(\"thius hhhefa poi  upsjdkj jok\")"
   ]
  },
  {
   "cell_type": "code",
   "execution_count": 5,
   "id": "a37c5d54-3e21-4c91-8503-3d2897f3acca",
   "metadata": {},
   "outputs": [],
   "source": [
    "logging.info(\"thius hhhefa poi  upsjdkj jok\")"
   ]
  },
  {
   "cell_type": "markdown",
   "id": "c3cf3914-5d87-45ad-800f-0d2ae28d1d09",
   "metadata": {},
   "source": [
    ".NOTSET 2.DEBUG 3.INFO 4.WARNING 5.ERROR 6.CRITICAL"
   ]
  },
  {
   "cell_type": "code",
   "execution_count": 6,
   "id": "48ae3141-2c80-49fd-9b06-64a67557a0ad",
   "metadata": {},
   "outputs": [],
   "source": [
    "logging.debug(\"this is my msg\")"
   ]
  },
  {
   "cell_type": "code",
   "execution_count": 7,
   "id": "cdc8ee99-fb9d-4671-ac0c-b99b2f7ab629",
   "metadata": {},
   "outputs": [],
   "source": [
    "logging.warning(\"this is my warning msg \")"
   ]
  },
  {
   "cell_type": "code",
   "execution_count": 8,
   "id": "eeb701ce-1462-47a1-904b-4e85b3c4910a",
   "metadata": {},
   "outputs": [],
   "source": [
    "logging.error(\"this is my error msg\")"
   ]
  },
  {
   "cell_type": "code",
   "execution_count": 9,
   "id": "0e6dd1cb-222b-4287-a07f-421c03d446d1",
   "metadata": {},
   "outputs": [],
   "source": [
    "logging.shutdown()"
   ]
  },
  {
   "cell_type": "code",
   "execution_count": 10,
   "id": "df4ad6f2-b598-4533-b287-98c8ad3c68b0",
   "metadata": {},
   "outputs": [
    {
     "ename": "SyntaxError",
     "evalue": "invalid decimal literal (3426395668.py, line 1)",
     "output_type": "error",
     "traceback": [
      "\u001b[0;36m  Cell \u001b[0;32mIn[10], line 1\u001b[0;36m\u001b[0m\n\u001b[0;31m    1.NOTSET\u001b[0m\n\u001b[0m     ^\u001b[0m\n\u001b[0;31mSyntaxError\u001b[0m\u001b[0;31m:\u001b[0m invalid decimal literal\n"
     ]
    }
   ],
   "source": [
    "1.NOTSET\n",
    "2.DEBUG\n",
    "3.INFO\n",
    "4.WARNING\n",
    "5.ERROR\n",
    "6.CRITICAL"
   ]
  },
  {
   "cell_type": "code",
   "execution_count": null,
   "id": "a1fa7ca9-cb19-4b0c-8255-b3c1b2753c36",
   "metadata": {},
   "outputs": [],
   "source": [
    "import logging"
   ]
  },
  {
   "cell_type": "code",
   "execution_count": null,
   "id": "7dabd3bb-a6eb-4daa-9d00-9b0f55039bb7",
   "metadata": {},
   "outputs": [],
   "source": [
    "logging.basicConfig(filename = (\"test1.log\" ,level =logging.DEBUG, format='%(asctime)s %(message)s')"
   ]
  },
  {
   "cell_type": "code",
   "execution_count": null,
   "id": "f251e7b8-9067-48d0-b013-cf33eecff5a7",
   "metadata": {},
   "outputs": [],
   "source": [
    "logging.info(\"this is my info \")\n",
    "logging.error(\"this is my error msg\")\n",
    "logging.critical(\"this is my creitical msg\")\n",
    "logging.warning(\"thgis is my waring msg\")"
   ]
  },
  {
   "cell_type": "code",
   "execution_count": null,
   "id": "f018b515-68be-41da-95ca-39a2cd754f45",
   "metadata": {},
   "outputs": [],
   "source": [
    "logging.shutdown()"
   ]
  },
  {
   "cell_type": "code",
   "execution_count": 11,
   "id": "d9ee8027-723b-4a71-b194-09e5479ac50c",
   "metadata": {},
   "outputs": [],
   "source": [
    "import logging"
   ]
  },
  {
   "cell_type": "code",
   "execution_count": 12,
   "id": "7a66debc-8d7c-4060-b774-9a0dbfaab0a2",
   "metadata": {},
   "outputs": [],
   "source": [
    "logging.basicConfig(filename =\"test2,log\" ,level = logging.DEBUG ,format = '%(asctime)s %(name)s %(levelname)s %(message)s')"
   ]
  },
  {
   "cell_type": "code",
   "execution_count": 13,
   "id": "d4a1a829-1aa2-4363-bdf0-54665e7f02c6",
   "metadata": {},
   "outputs": [],
   "source": [
    "logging.info(\"this is my info \")\n",
    "logging.error(\"this is my error msg\")\n",
    "logging.critical(\"this is my creitical msg\")\n",
    "logging.warning(\"thgis is my waring msg\")"
   ]
  },
  {
   "cell_type": "code",
   "execution_count": 14,
   "id": "c8c82f21-dcfe-4cd3-a3c2-23c1078d7f7b",
   "metadata": {},
   "outputs": [],
   "source": [
    "l = [1,2,3,4,5,[7,8,9,4],\"shudhs\", \"name\"]"
   ]
  },
  {
   "cell_type": "code",
   "execution_count": null,
   "id": "d30a6c20-423b-4efd-ace7-9d31268aa413",
   "metadata": {},
   "outputs": [],
   "source": [
    "l1_int =[]\n",
    "l2_str =[]\n",
    "\n",
    "for i in l :\n",
    "    logging.info(\"we are itreating through our list and our local var is i\")\n",
    "    if type (i) == list :\n",
    "        logging.info(\"i am inside if statment and i am try to check list type\")\n",
    "        for j in i :\n",
    "            logging.info(\"i am in another for loop for list inside list elements\")\n",
    "            if type(j) == int :\n",
    "                logging.info(\"i am inside statment\")\n",
    "                l1_int.append(j)\n",
    "    elif type (i)== int :\n",
    "        l1_int.append(i)\n",
    "    else:\n",
    "        if type (i) == str :\n",
    "            l2_str.append(i)\n",
    "                \n"
   ]
  },
  {
   "cell_type": "code",
   "execution_count": 17,
   "id": "a5843345-4e5f-44c8-beb6-3ea6035a583c",
   "metadata": {},
   "outputs": [
    {
     "data": {
      "text/plain": [
       "[1, 2, 3, 4, 5, 7, 8, 9, 4]"
      ]
     },
     "execution_count": 17,
     "metadata": {},
     "output_type": "execute_result"
    }
   ],
   "source": [
    "l1_int"
   ]
  },
  {
   "cell_type": "code",
   "execution_count": 18,
   "id": "43d74c75-c788-4c1d-aaee-d2732bcff430",
   "metadata": {},
   "outputs": [
    {
     "data": {
      "text/plain": [
       "['shudhs', 'name']"
      ]
     },
     "execution_count": 18,
     "metadata": {},
     "output_type": "execute_result"
    }
   ],
   "source": [
    "l2_str"
   ]
  },
  {
   "cell_type": "code",
   "execution_count": null,
   "id": "e5588fd7-66ea-4353-b6d3-1b02ab8311e8",
   "metadata": {},
   "outputs": [],
   "source": []
  }
 ],
 "metadata": {
  "kernelspec": {
   "display_name": "Python 3 (ipykernel)",
   "language": "python",
   "name": "python3"
  },
  "language_info": {
   "codemirror_mode": {
    "name": "ipython",
    "version": 3
   },
   "file_extension": ".py",
   "mimetype": "text/x-python",
   "name": "python",
   "nbconvert_exporter": "python",
   "pygments_lexer": "ipython3",
   "version": "3.10.8"
  },
  "toc-autonumbering": true,
  "toc-showcode": false,
  "toc-showmarkdowntxt": false,
  "toc-showtags": false
 },
 "nbformat": 4,
 "nbformat_minor": 5
}
