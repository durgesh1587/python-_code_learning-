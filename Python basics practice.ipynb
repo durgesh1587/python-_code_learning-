{
 "cells": [
  {
   "cell_type": "markdown",
   "id": "fb6118a3-13ad-4ee5-8e1b-1188fcbe6375",
   "metadata": {},
   "source": [
    "1. Write a program to reverse a string."
   ]
  },
  {
   "cell_type": "code",
   "execution_count": 19,
   "id": "3c07c5c4-fbec-401c-8648-3ef4fdb0d54b",
   "metadata": {},
   "outputs": [],
   "source": [
    "a = \" pwskills\""
   ]
  },
  {
   "cell_type": "code",
   "execution_count": 20,
   "id": "8c17e36e-1184-4c50-9f88-32a5da6d01f2",
   "metadata": {},
   "outputs": [
    {
     "data": {
      "text/plain": [
       "'sllikswp '"
      ]
     },
     "execution_count": 20,
     "metadata": {},
     "output_type": "execute_result"
    }
   ],
   "source": [
    "a[::-1]"
   ]
  },
  {
   "cell_type": "markdown",
   "id": "bfa4fce6-8bf7-474e-b3fa-6744f49bf614",
   "metadata": {},
   "source": [
    "2. Check if a string is a palindrome."
   ]
  },
  {
   "cell_type": "code",
   "execution_count": 21,
   "id": "2b17256e-5009-400b-bc4c-665e36c06baa",
   "metadata": {},
   "outputs": [],
   "source": [
    "palindrom = 'A man a plan a canal Panama'"
   ]
  },
  {
   "cell_type": "code",
   "execution_count": 22,
   "id": "946147a6-0d20-461e-9dba-5d9fb1ec6374",
   "metadata": {},
   "outputs": [
    {
     "data": {
      "text/plain": [
       "'amanaP lanac a nalp a nam A'"
      ]
     },
     "execution_count": 22,
     "metadata": {},
     "output_type": "execute_result"
    }
   ],
   "source": [
    "palindrom[::-1]"
   ]
  },
  {
   "cell_type": "markdown",
   "id": "1dc0fe8b-4d8f-4456-ae70-935d6ccce554",
   "metadata": {},
   "source": [
    "Convert a string to lowercase."
   ]
  },
  {
   "cell_type": "code",
   "execution_count": 23,
   "id": "537e6e93-b48c-45e0-9161-ccd0a10e8e91",
   "metadata": {},
   "outputs": [
    {
     "data": {
      "text/plain": [
       "'a man a plan a canal panama'"
      ]
     },
     "execution_count": 23,
     "metadata": {},
     "output_type": "execute_result"
    }
   ],
   "source": [
    "palindrom.lower()"
   ]
  },
  {
   "cell_type": "markdown",
   "id": "6b9b779b-e001-41ff-9547-8ee610c37cc1",
   "metadata": {},
   "source": [
    "Count the number of vowels in a string."
   ]
  },
  {
   "cell_type": "code",
   "execution_count": 24,
   "id": "e52e8aba-d3ef-43eb-bba7-f2afeda1a738",
   "metadata": {},
   "outputs": [
    {
     "data": {
      "text/plain": [
       "2"
      ]
     },
     "execution_count": 24,
     "metadata": {},
     "output_type": "execute_result"
    }
   ],
   "source": [
    "palindrom.count(\"m\")"
   ]
  },
  {
   "cell_type": "markdown",
   "id": "3eac3f8b-d54d-4444-b1de-4f6032d919e0",
   "metadata": {},
   "source": [
    "6. Count the number of consonants in a string."
   ]
  },
  {
   "cell_type": "code",
   "execution_count": 25,
   "id": "8cdcc48c-10c4-4238-aca1-820eac9a298d",
   "metadata": {},
   "outputs": [],
   "source": [
    "a= \" i am  durgesh \"\n",
    "b = \" i am 30 year old\""
   ]
  },
  {
   "cell_type": "code",
   "execution_count": 26,
   "id": "47587d06-52bb-4d6d-9089-3136410563fb",
   "metadata": {},
   "outputs": [],
   "source": [
    "c=a+b"
   ]
  },
  {
   "cell_type": "code",
   "execution_count": 27,
   "id": "bc0f8487-369b-40ab-8ab8-3cece2a19f15",
   "metadata": {},
   "outputs": [
    {
     "data": {
      "text/plain": [
       "' i am  durgesh  i am 30 year old'"
      ]
     },
     "execution_count": 27,
     "metadata": {},
     "output_type": "execute_result"
    }
   ],
   "source": [
    "c"
   ]
  },
  {
   "cell_type": "markdown",
   "id": "ecdbee78-544b-4dc2-be67-51d9feaad33e",
   "metadata": {},
   "source": [
    "7. Remove all whitespaces from a string."
   ]
  },
  {
   "cell_type": "code",
   "execution_count": 28,
   "id": "b5689358-fbbd-494c-81b5-126349211932",
   "metadata": {},
   "outputs": [],
   "source": [
    "string = \"  Hello,   World!  \"\n",
    "no_whitespace = string.replace(\" \",\"\")"
   ]
  },
  {
   "cell_type": "code",
   "execution_count": 29,
   "id": "82f9f0f2-edc4-471e-8817-60676f644f66",
   "metadata": {},
   "outputs": [
    {
     "data": {
      "text/plain": [
       "'Hello,World!'"
      ]
     },
     "execution_count": 29,
     "metadata": {},
     "output_type": "execute_result"
    }
   ],
   "source": [
    "no_whitespace"
   ]
  },
  {
   "cell_type": "code",
   "execution_count": 30,
   "id": "7cef3676-dc84-4b47-9d29-e7f77b12f2e4",
   "metadata": {},
   "outputs": [
    {
     "name": "stdout",
     "output_type": "stream",
     "text": [
      "The length of the string is: 13\n"
     ]
    }
   ],
   "source": [
    "def string_length(input_string):\n",
    "    count = 0\n",
    "    for char in input_string:\n",
    "        count += 1\n",
    "    return count\n",
    "\n",
    "# Example usage:\n",
    "test_string = \"Hello, World!\"\n",
    "result = string_length(test_string)\n",
    "print(f\"The length of the string is: {result}\")\n"
   ]
  },
  {
   "cell_type": "markdown",
   "id": "0b1e379d-31e3-4b5f-a237-01012b355c3b",
   "metadata": {},
   "source": [
    "8. Find the length of a string without using the `len()` function."
   ]
  },
  {
   "cell_type": "code",
   "execution_count": 31,
   "id": "857a063e-ac3d-4a2d-9c7e-f1fe53714a02",
   "metadata": {},
   "outputs": [],
   "source": [
    "length = \"Hello World!\""
   ]
  },
  {
   "cell_type": "code",
   "execution_count": 32,
   "id": "4025ac03-a023-4c44-84bc-a41ada8ec099",
   "metadata": {},
   "outputs": [],
   "source": [
    "def string_length(length):\n",
    "    count = 0\n",
    "    while length:\n",
    "        count += 1\n",
    "        length = length[1:]\n",
    "    return count"
   ]
  },
  {
   "cell_type": "code",
   "execution_count": 33,
   "id": "fc86a36f-74d1-4b28-a127-7881f4aac621",
   "metadata": {},
   "outputs": [
    {
     "data": {
      "text/plain": [
       "'Hello World!'"
      ]
     },
     "execution_count": 33,
     "metadata": {},
     "output_type": "execute_result"
    }
   ],
   "source": [
    "length"
   ]
  },
  {
   "cell_type": "markdown",
   "id": "e581b8f6-d731-465d-af11-5451c934e655",
   "metadata": {},
   "source": [
    "9. Check if a string contains a specific word."
   ]
  },
  {
   "cell_type": "code",
   "execution_count": 34,
   "id": "71bca9d9-36af-4763-8a61-5e5eeef568cc",
   "metadata": {},
   "outputs": [
    {
     "name": "stdout",
     "output_type": "stream",
     "text": [
      "'hello world this is a test' contains 'test'.\n"
     ]
    }
   ],
   "source": [
    "def contains_word(original_string, search_word):\n",
    "    return search_word in original_string\n",
    "\n",
    "test_str = \"hello world this is a test\"\n",
    "search_word = \"test\"\n",
    "\n",
    "if contains_word(test_str, search_word):\n",
    "    print(f\"'{test_str}' contains '{search_word}'.\")\n",
    "else:\n",
    "    print(f\"'{test_str}' does not contain '{search_word}'.\")\n"
   ]
  },
  {
   "cell_type": "markdown",
   "id": "18afec05-5455-4434-be5d-0a1f67ab7512",
   "metadata": {},
   "source": [
    "10. Replace a word in a string with another word."
   ]
  },
  {
   "cell_type": "code",
   "execution_count": 35,
   "id": "2e5d8bc8-dc93-4e61-840f-0c2b9ff15cc2",
   "metadata": {},
   "outputs": [],
   "source": [
    "original_string = \"This is an example sentence with the word example.\"\n",
    "old_word = \"example\"\n",
    "new_word = \"replacement\""
   ]
  },
  {
   "cell_type": "code",
   "execution_count": 36,
   "id": "2204d28a-c387-41f0-b6b1-6e480fd95c14",
   "metadata": {},
   "outputs": [
    {
     "ename": "NameError",
     "evalue": "name 'replace_word' is not defined",
     "output_type": "error",
     "traceback": [
      "\u001b[0;31m---------------------------------------------------------------------------\u001b[0m",
      "\u001b[0;31mNameError\u001b[0m                                 Traceback (most recent call last)",
      "Cell \u001b[0;32mIn[36], line 1\u001b[0m\n\u001b[0;32m----> 1\u001b[0m esult \u001b[38;5;241m=\u001b[39m \u001b[43mreplace_word\u001b[49m(original_string, old_word, new_word)\n\u001b[1;32m      2\u001b[0m \u001b[38;5;28mprint\u001b[39m(result)\n",
      "\u001b[0;31mNameError\u001b[0m: name 'replace_word' is not defined"
     ]
    }
   ],
   "source": [
    "esult = replace_word(original_string, old_word, new_word)\n",
    "print(result)"
   ]
  },
  {
   "cell_type": "markdown",
   "id": "1689bd86-deb2-4208-b653-b8927feca595",
   "metadata": {},
   "source": [
    "11. Count the occurrences of a word in a string"
   ]
  },
  {
   "cell_type": "code",
   "execution_count": 37,
   "id": "a0dc336b-1a47-4e16-b490-b1b6ca3f87a3",
   "metadata": {},
   "outputs": [
    {
     "ename": "NameError",
     "evalue": "name 'count_occurrences' is not defined",
     "output_type": "error",
     "traceback": [
      "\u001b[0;31m---------------------------------------------------------------------------\u001b[0m",
      "\u001b[0;31mNameError\u001b[0m                                 Traceback (most recent call last)",
      "Cell \u001b[0;32mIn[37], line 4\u001b[0m\n\u001b[1;32m      1\u001b[0m count_str \u001b[38;5;241m=\u001b[39m \u001b[38;5;124m\"\u001b[39m\u001b[38;5;124mthis is a test and another test\u001b[39m\u001b[38;5;124m\"\u001b[39m\n\u001b[1;32m      2\u001b[0m search_word \u001b[38;5;241m=\u001b[39m \u001b[38;5;124m\"\u001b[39m\u001b[38;5;124mtest\u001b[39m\u001b[38;5;124m\"\u001b[39m\n\u001b[0;32m----> 4\u001b[0m occurrences \u001b[38;5;241m=\u001b[39m \u001b[43mcount_occurrences\u001b[49m(count_str, search_word)\n\u001b[1;32m      5\u001b[0m \u001b[38;5;28mprint\u001b[39m(\u001b[38;5;124mf\u001b[39m\u001b[38;5;124m\"\u001b[39m\u001b[38;5;124mThe word \u001b[39m\u001b[38;5;124m'\u001b[39m\u001b[38;5;132;01m{\u001b[39;00msearch_word\u001b[38;5;132;01m}\u001b[39;00m\u001b[38;5;124m'\u001b[39m\u001b[38;5;124m appears \u001b[39m\u001b[38;5;132;01m{\u001b[39;00moccurrences\u001b[38;5;132;01m}\u001b[39;00m\u001b[38;5;124m times in the string.\u001b[39m\u001b[38;5;124m\"\u001b[39m)\n",
      "\u001b[0;31mNameError\u001b[0m: name 'count_occurrences' is not defined"
     ]
    }
   ],
   "source": [
    "count_str = \"this is a test and another test\"\n",
    "search_word = \"test\"\n",
    "\n",
    "occurrences = count_occurrences(count_str, search_word)\n",
    "print(f\"The word '{search_word}' appears {occurrences} times in the string.\")\n"
   ]
  },
  {
   "cell_type": "markdown",
   "id": "c0ff984a-2c69-4bcc-9134-e12cb3f8d156",
   "metadata": {},
   "source": [
    "12. Find the first occurrence of a word in a string."
   ]
  },
  {
   "cell_type": "code",
   "execution_count": 38,
   "id": "f0e59216-497d-415d-b276-87c9b1c81b7d",
   "metadata": {},
   "outputs": [
    {
     "ename": "NameError",
     "evalue": "name 'find_first_occurrence' is not defined",
     "output_type": "error",
     "traceback": [
      "\u001b[0;31m---------------------------------------------------------------------------\u001b[0m",
      "\u001b[0;31mNameError\u001b[0m                                 Traceback (most recent call last)",
      "Cell \u001b[0;32mIn[38], line 4\u001b[0m\n\u001b[1;32m      1\u001b[0m input_str \u001b[38;5;241m=\u001b[39m \u001b[38;5;124m\"\u001b[39m\u001b[38;5;124mThis is an example sentence with the word example.\u001b[39m\u001b[38;5;124m\"\u001b[39m\n\u001b[1;32m      2\u001b[0m search_word \u001b[38;5;241m=\u001b[39m \u001b[38;5;124m\"\u001b[39m\u001b[38;5;124mexample\u001b[39m\u001b[38;5;124m\"\u001b[39m\n\u001b[0;32m----> 4\u001b[0m first_occurrence_index \u001b[38;5;241m=\u001b[39m \u001b[43mfind_first_occurrence\u001b[49m(input_str, search_word)\n\u001b[1;32m      6\u001b[0m \u001b[38;5;28;01mif\u001b[39;00m first_occurrence_index \u001b[38;5;241m!=\u001b[39m \u001b[38;5;241m-\u001b[39m\u001b[38;5;241m1\u001b[39m:\n\u001b[1;32m      7\u001b[0m     \u001b[38;5;28mprint\u001b[39m(\u001b[38;5;124mf\u001b[39m\u001b[38;5;124m\"\u001b[39m\u001b[38;5;124mThe first occurrence of \u001b[39m\u001b[38;5;124m'\u001b[39m\u001b[38;5;132;01m{\u001b[39;00msearch_word\u001b[38;5;132;01m}\u001b[39;00m\u001b[38;5;124m'\u001b[39m\u001b[38;5;124m starts at index \u001b[39m\u001b[38;5;132;01m{\u001b[39;00mfirst_occurrence_index\u001b[38;5;132;01m}\u001b[39;00m\u001b[38;5;124m.\u001b[39m\u001b[38;5;124m\"\u001b[39m)\n",
      "\u001b[0;31mNameError\u001b[0m: name 'find_first_occurrence' is not defined"
     ]
    }
   ],
   "source": [
    "input_str = \"This is an example sentence with the word example.\"\n",
    "search_word = \"example\"\n",
    "\n",
    "first_occurrence_index = find_first_occurrence(input_str, search_word)\n",
    "\n",
    "if first_occurrence_index != -1:\n",
    "    print(f\"The first occurrence of '{search_word}' starts at index {first_occurrence_index}.\")\n",
    "else:\n",
    "    print(f\"'{search_word}' is not found in the string.\")\n"
   ]
  },
  {
   "cell_type": "markdown",
   "id": "a59403db-975c-420e-82d1-79c6f6796920",
   "metadata": {},
   "source": [
    "13. Find the last occurrence of a word in a string."
   ]
  },
  {
   "cell_type": "code",
   "execution_count": 39,
   "id": "888beb0d-0092-4a9d-aad7-77355498d4e6",
   "metadata": {},
   "outputs": [
    {
     "ename": "NameError",
     "evalue": "name 'last_occurrence_index' is not defined",
     "output_type": "error",
     "traceback": [
      "\u001b[0;31m---------------------------------------------------------------------------\u001b[0m",
      "\u001b[0;31mNameError\u001b[0m                                 Traceback (most recent call last)",
      "Cell \u001b[0;32mIn[39], line 8\u001b[0m\n\u001b[1;32m      5\u001b[0m search_word \u001b[38;5;241m=\u001b[39m \u001b[38;5;124m\"\u001b[39m\u001b[38;5;124mexample\u001b[39m\u001b[38;5;124m\"\u001b[39m\n\u001b[1;32m      6\u001b[0m occurrence_index \u001b[38;5;241m=\u001b[39m find_last_occurrence(input_str, search_word)\n\u001b[0;32m----> 8\u001b[0m \u001b[38;5;28;01mif\u001b[39;00m \u001b[43mlast_occurrence_index\u001b[49m \u001b[38;5;241m!=\u001b[39m \u001b[38;5;241m-\u001b[39m\u001b[38;5;241m1\u001b[39m:\n\u001b[1;32m      9\u001b[0m     \u001b[38;5;28mprint\u001b[39m(\u001b[38;5;124mf\u001b[39m\u001b[38;5;124m\"\u001b[39m\u001b[38;5;124mThe last occurrence of \u001b[39m\u001b[38;5;124m'\u001b[39m\u001b[38;5;132;01m{\u001b[39;00msearch_word\u001b[38;5;132;01m}\u001b[39;00m\u001b[38;5;124m'\u001b[39m\u001b[38;5;124m starts at index \u001b[39m\u001b[38;5;132;01m{\u001b[39;00moccurrence_index\u001b[38;5;132;01m}\u001b[39;00m\u001b[38;5;124m.\u001b[39m\u001b[38;5;124m\"\u001b[39m)\n\u001b[1;32m     10\u001b[0m \u001b[38;5;28;01melse\u001b[39;00m:\n",
      "\u001b[0;31mNameError\u001b[0m: name 'last_occurrence_index' is not defined"
     ]
    }
   ],
   "source": [
    "def find_last_occurrence(a,b):\n",
    "    index = a.rfind(b)\n",
    "    return index\n",
    "input_str = \"This is an example sentence with the word example. \"\n",
    "search_word = \"example\"\n",
    "occurrence_index = find_last_occurrence(input_str, search_word)\n",
    "\n",
    "if last_occurrence_index != -1:\n",
    "    print(f\"The last occurrence of '{search_word}' starts at index {occurrence_index}.\")\n",
    "else:\n",
    "    print(f\"'{search_word}' is not found in the string.\")\n"
   ]
  },
  {
   "cell_type": "markdown",
   "id": "e3e5f00f-9620-404d-94fc-d2831e36a6e0",
   "metadata": {},
   "source": [
    "14. Split a string into a list of words.\n"
   ]
  },
  {
   "cell_type": "code",
   "execution_count": 40,
   "id": "86663db7-68a5-41bf-9e8b-e5acd99bf3d9",
   "metadata": {},
   "outputs": [
    {
     "data": {
      "text/plain": [
       "' i am  durgesh '"
      ]
     },
     "execution_count": 40,
     "metadata": {},
     "output_type": "execute_result"
    }
   ],
   "source": [
    "a"
   ]
  },
  {
   "cell_type": "code",
   "execution_count": 41,
   "id": "8eba1a36-d517-46e4-8571-25c3c63b29a5",
   "metadata": {},
   "outputs": [
    {
     "data": {
      "text/plain": [
       "['i', 'am', 'durgesh']"
      ]
     },
     "execution_count": 41,
     "metadata": {},
     "output_type": "execute_result"
    }
   ],
   "source": [
    "a.split()"
   ]
  },
  {
   "cell_type": "markdown",
   "id": "6cb41481-9949-4488-b577-89c73ef8b66f",
   "metadata": {},
   "source": [
    "15. Join a list of words into a string."
   ]
  },
  {
   "cell_type": "code",
   "execution_count": 42,
   "id": "ea42eed5-0ce8-46e5-868e-301b62d50339",
   "metadata": {},
   "outputs": [],
   "source": [
    "word_list = ['apple', 'orange', 'banana']\n",
    "\n",
    "joined_string = ', '.join(word_list)\n"
   ]
  },
  {
   "cell_type": "code",
   "execution_count": 43,
   "id": "1c30a1f3-bb34-42cd-bbf1-c4225526ebaf",
   "metadata": {},
   "outputs": [
    {
     "data": {
      "text/plain": [
       "'apple, orange, banana'"
      ]
     },
     "execution_count": 43,
     "metadata": {},
     "output_type": "execute_result"
    }
   ],
   "source": [
    "joined_string"
   ]
  },
  {
   "cell_type": "markdown",
   "id": "46dcf462-0a42-4395-aeda-dffaa1fe5380",
   "metadata": {},
   "source": [
    "16. Convert a string where words are separated by spaces to one where words\n",
    "are separated by underscores.\n"
   ]
  },
  {
   "cell_type": "code",
   "execution_count": 44,
   "id": "1dc9547b-48c4-4f84-af20-3767102b127b",
   "metadata": {},
   "outputs": [
    {
     "name": "stdout",
     "output_type": "stream",
     "text": [
      "This_is_an_example_string.\n"
     ]
    }
   ],
   "source": [
    "org_str = \"This is an example string.\"\n",
    "\n",
    "# Replace spaces with underscores\n",
    "modif_str = org_str.replace(\" \", \"_\")\n",
    "\n",
    "print(modif_str)\n"
   ]
  },
  {
   "cell_type": "markdown",
   "id": "9d37ce09-a7c2-4fe5-ba95-374f2f7bf2c5",
   "metadata": {},
   "source": [
    "17. Check if a string starts with a specific word or phrase."
   ]
  },
  {
   "cell_type": "code",
   "execution_count": 45,
   "id": "afc94a18-9c93-480c-8368-a03d9d3b3880",
   "metadata": {},
   "outputs": [
    {
     "name": "stdout",
     "output_type": "stream",
     "text": [
      "The string does not start with 'Hello'.\n"
     ]
    }
   ],
   "source": [
    "original = \"Hello, this is an example string.\"\n",
    "\n",
    "prefix = \"Hello\"\n",
    "\n",
    "if original_string.startswith(prefix):\n",
    "    print(f\"The string starts with '{prefix}'.\")\n",
    "else:\n",
    "    print(f\"The string does not start with '{prefix}'.\")\n"
   ]
  },
  {
   "cell_type": "markdown",
   "id": "a0144581-6287-4287-86a6-6353225d096c",
   "metadata": {},
   "source": [
    "18. Check if a string ends with a specific word or phrase"
   ]
  },
  {
   "cell_type": "code",
   "execution_count": 46,
   "id": "d847599b-9c4a-4301-9fd8-a76104339eaf",
   "metadata": {},
   "outputs": [
    {
     "name": "stdout",
     "output_type": "stream",
     "text": [
      "The string ends with 'string.'.\n"
     ]
    }
   ],
   "source": [
    "originals = \"This is the end of the example string.\"\n",
    "\n",
    "suffix = \"string.\"\n",
    "\n",
    "if originals.endswith(suffix):\n",
    "    print(f\"The string ends with '{suffix}'.\")\n",
    "else:\n",
    "    print(f\"The string does not end with '{suffix}'.\")\n"
   ]
  },
  {
   "cell_type": "markdown",
   "id": "ee9b2bf0-92c0-4825-96d3-77eff6589b98",
   "metadata": {},
   "source": [
    "19. Convert a string to title case (e.g., \"hello world\" to \"Hello World\")."
   ]
  },
  {
   "cell_type": "code",
   "execution_count": 47,
   "id": "b4a71e76-5393-4164-bf17-fe25c7d8e33c",
   "metadata": {},
   "outputs": [],
   "source": [
    "original_string = \"hello world\"\n",
    "\n",
    "title = original_string.title()\n"
   ]
  },
  {
   "cell_type": "code",
   "execution_count": 48,
   "id": "b0a6ccfd-fecd-4b61-87dc-0b3e9b47c0c9",
   "metadata": {},
   "outputs": [
    {
     "data": {
      "text/plain": [
       "'Hello World'"
      ]
     },
     "execution_count": 48,
     "metadata": {},
     "output_type": "execute_result"
    }
   ],
   "source": [
    "title"
   ]
  },
  {
   "cell_type": "markdown",
   "id": "c6434b9b-412a-4e78-af78-904f7e216c8f",
   "metadata": {},
   "source": [
    "20. Find the longest word in a string.\n"
   ]
  },
  {
   "cell_type": "code",
   "execution_count": 49,
   "id": "4536ac28-9e7a-4a6c-8b77-32534661e85a",
   "metadata": {},
   "outputs": [
    {
     "name": "stdout",
     "output_type": "stream",
     "text": [
      "The longest word in the string is: durgesh\n"
     ]
    }
   ],
   "source": [
    "def find_longest_word(string):\n",
    "    words = a.split()\n",
    "    longest_word = max(words, key=len)\n",
    "    return longest_word\n",
    "\n",
    "string = \" i am durgesh 21 year old \"\n",
    "\n",
    "longest = find_longest_word(string)\n",
    "\n",
    "print(f\"The longest word in the string is: {longest}\")\n"
   ]
  },
  {
   "cell_type": "markdown",
   "id": "f05d687f-188d-4e99-b95a-d7ae43c5f079",
   "metadata": {},
   "source": [
    "21. Find the shortest word in a string."
   ]
  },
  {
   "cell_type": "code",
   "execution_count": 50,
   "id": "649ee048-e62f-44a3-b877-c5b7b8cd8622",
   "metadata": {},
   "outputs": [
    {
     "name": "stdout",
     "output_type": "stream",
     "text": [
      "Find the shortest word in a string: i\n"
     ]
    }
   ],
   "source": [
    "def find_longest_word(string):\n",
    "    words = a.split()\n",
    "    longest_word = min(words, key=len)\n",
    "    return longest_word\n",
    "\n",
    "string = \" i am durgesh 21 year old \"\n",
    "\n",
    "shortest  = find_longest_word(string)\n",
    "\n",
    "print(f\"Find the shortest word in a string: {shortest }\")"
   ]
  },
  {
   "cell_type": "markdown",
   "id": "0ac9560b-1c2f-4333-bd23-c065e29923fc",
   "metadata": {},
   "source": [
    "22. Reverse the order of words in a string.\n"
   ]
  },
  {
   "cell_type": "code",
   "execution_count": 51,
   "id": "1d3b3a59-fcdf-4861-b211-10fbab8ee721",
   "metadata": {},
   "outputs": [
    {
     "ename": "NameError",
     "evalue": "name 'input_string' is not defined",
     "output_type": "error",
     "traceback": [
      "\u001b[0;31m---------------------------------------------------------------------------\u001b[0m",
      "\u001b[0;31mNameError\u001b[0m                                 Traceback (most recent call last)",
      "Cell \u001b[0;32mIn[51], line 1\u001b[0m\n\u001b[0;32m----> 1\u001b[0m reversed_string \u001b[38;5;241m=\u001b[39m \u001b[38;5;124m'\u001b[39m\u001b[38;5;124m \u001b[39m\u001b[38;5;124m'\u001b[39m\u001b[38;5;241m.\u001b[39mjoin(\u001b[43minput_string\u001b[49m\u001b[38;5;241m.\u001b[39msplit()[::\u001b[38;5;241m-\u001b[39m\u001b[38;5;241m1\u001b[39m])\n",
      "\u001b[0;31mNameError\u001b[0m: name 'input_string' is not defined"
     ]
    }
   ],
   "source": [
    "reversed_string = ' '.join(input_string.split()[::-1])\n"
   ]
  },
  {
   "cell_type": "code",
   "execution_count": 52,
   "id": "d699c6f4-87df-481a-94a2-646130af3a6d",
   "metadata": {},
   "outputs": [
    {
     "ename": "NameError",
     "evalue": "name 'reversed_string' is not defined",
     "output_type": "error",
     "traceback": [
      "\u001b[0;31m---------------------------------------------------------------------------\u001b[0m",
      "\u001b[0;31mNameError\u001b[0m                                 Traceback (most recent call last)",
      "Cell \u001b[0;32mIn[52], line 1\u001b[0m\n\u001b[0;32m----> 1\u001b[0m \u001b[43mreversed_string\u001b[49m\n",
      "\u001b[0;31mNameError\u001b[0m: name 'reversed_string' is not defined"
     ]
    }
   ],
   "source": [
    "reversed_string"
   ]
  },
  {
   "cell_type": "code",
   "execution_count": null,
   "id": "f67552b9-5bd2-46e3-a832-cf3c527951b7",
   "metadata": {},
   "outputs": [],
   "source": []
  },
  {
   "cell_type": "markdown",
   "id": "c0257afe-be01-484f-9284-cdc79b617744",
   "metadata": {},
   "source": [
    "23. Check if a string is alphanumeric.\n"
   ]
  },
  {
   "cell_type": "code",
   "execution_count": 53,
   "id": "2506e854-e8ec-48ee-9d44-f6036f41af31",
   "metadata": {},
   "outputs": [
    {
     "name": "stdout",
     "output_type": "stream",
     "text": [
      "The string 'Hello123' is alphanumeric.\n"
     ]
    }
   ],
   "source": [
    "def is_alphanumeric(input_str):\n",
    "    return input_str.isalnum()\n",
    "\n",
    "test_str = \"Hello123\"\n",
    "\n",
    "if is_alphanumeric(test_str):\n",
    "    print(f\"The string '{test_str}' is alphanumeric.\")\n",
    "else:\n",
    "    print(f\"The string '{test_str}' is not alphanumeric.\")\n"
   ]
  },
  {
   "cell_type": "code",
   "execution_count": 54,
   "id": "eaced3a0-edf5-4099-96a8-75a17830a438",
   "metadata": {},
   "outputs": [
    {
     "data": {
      "text/plain": [
       "True"
      ]
     },
     "execution_count": 54,
     "metadata": {},
     "output_type": "execute_result"
    }
   ],
   "source": [
    "test_str.isalnum()"
   ]
  },
  {
   "cell_type": "markdown",
   "id": "2ee1c757-0fe1-4c3b-a529-d197b1d1c12a",
   "metadata": {},
   "source": [
    "24. Extract all digits from a string.\n"
   ]
  },
  {
   "cell_type": "code",
   "execution_count": 55,
   "id": "ee134584-91d4-4a0e-8a6e-f9dd02f66e07",
   "metadata": {},
   "outputs": [
    {
     "name": "stdout",
     "output_type": "stream",
     "text": [
      "Original String: The price is $45.99 for 2 items.\n",
      "Extracted Digits: 45992\n"
     ]
    }
   ],
   "source": [
    "import re\n",
    "\n",
    "def extract_digits(input_string):\n",
    "    return ''.join(re.findall(r'\\d', input_string))\n",
    "input_string = \"The price is $45.99 for 2 items.\"\n",
    "result = extract_digits(input_string)\n",
    "\n",
    "def extract_digits(input_string):\n",
    "    return ''.join(char for char in input_string if char.isdigit())\n",
    "print(\"Original String:\", input_string)\n",
    "print(\"Extracted Digits:\", result)"
   ]
  },
  {
   "cell_type": "markdown",
   "id": "11d542d7-dd51-4604-b804-2499cc12b25f",
   "metadata": {},
   "source": [
    "25. Extract all alphabets from a string.\n"
   ]
  },
  {
   "cell_type": "code",
   "execution_count": 56,
   "id": "d41260e6-af55-4f20-8df1-617ad6f6c2a4",
   "metadata": {},
   "outputs": [
    {
     "name": "stdout",
     "output_type": "stream",
     "text": [
      "The extracted alphabets are: abcdef\n"
     ]
    }
   ],
   "source": [
    "test_str = \"abc123def456\"\n",
    "\n",
    "alphabet = ''.join(i for i in test_str if i.isalpha())\n",
    "\n",
    "print(f\"The extracted alphabets are: {alphabet}\")\n"
   ]
  },
  {
   "cell_type": "markdown",
   "id": "303e90e0-95c9-4174-a9ed-47f640d5f255",
   "metadata": {},
   "source": [
    "26. Count the number of uppercase letters in a string."
   ]
  },
  {
   "cell_type": "code",
   "execution_count": 57,
   "id": "b62ac666-28d5-479a-92f2-02a06c718067",
   "metadata": {},
   "outputs": [
    {
     "name": "stdout",
     "output_type": "stream",
     "text": [
      "the number of uppercase latter is : 2\n"
     ]
    }
   ],
   "source": [
    "input_string = \"Hello World!\"\n",
    "uppercase_letters = list(filter(str.isupper,input_string))\n",
    "count = len (uppercase_letters)\n",
    "print (f\"the number of uppercase latter is : {count}\")\n"
   ]
  },
  {
   "cell_type": "markdown",
   "id": "70334416-c700-4311-b402-38dc51e102f4",
   "metadata": {},
   "source": [
    "27. Count the number of lowercase letters in a string"
   ]
  },
  {
   "cell_type": "code",
   "execution_count": 58,
   "id": "afe90c78-d084-4249-8c97-6697abf956e2",
   "metadata": {},
   "outputs": [
    {
     "name": "stdout",
     "output_type": "stream",
     "text": [
      "the number of uppercase latter is : 12\n"
     ]
    }
   ],
   "source": [
    "input_string = \"Durgesh Kharwar!\"\n",
    "loweercase_letters = list(filter(str.islower,input_string))\n",
    "count = len (loweercase_letters)\n",
    "print (f\"the number of uppercase latter is : {count}\")"
   ]
  },
  {
   "cell_type": "markdown",
   "id": "14247984-0a44-4d67-b4cf-3cecdbcbe22a",
   "metadata": {},
   "source": [
    "28. Swap the case of each character in a string.\n"
   ]
  },
  {
   "cell_type": "code",
   "execution_count": 59,
   "id": "9047c841-4ff6-4e36-a978-26adde806a51",
   "metadata": {},
   "outputs": [
    {
     "name": "stdout",
     "output_type": "stream",
     "text": [
      "The string after swapping the case is:  hOW aBOUT sOME cASE sWAPPING?\n"
     ]
    }
   ],
   "source": [
    "input_string = \" How About Some Case Swapping?\"\n",
    "\n",
    "swapped_string = input_string.swapcase()\n",
    "\n",
    "print(f\"The string after swapping the case is: {swapped_string}\")\n"
   ]
  },
  {
   "cell_type": "markdown",
   "id": "2cc46933-aeea-4ce3-bb3d-5084e3b4a6e2",
   "metadata": {},
   "source": [
    "29. Remove a specific word from a string.\n"
   ]
  },
  {
   "cell_type": "code",
   "execution_count": 60,
   "id": "4c9d8d97-ad10-4caf-9f25-8626fa937004",
   "metadata": {},
   "outputs": [
    {
     "name": "stdout",
     "output_type": "stream",
     "text": [
      "The string after removing 'World' is:\n",
      "Remove  from this string.\n"
     ]
    }
   ],
   "source": [
    "input_string = \"Remove World from this string.\"\n",
    "word_to_remove = \"World\"\n",
    "\n",
    "modified_string = input_string.replace(word_to_remove, '')\n",
    "\n",
    "print(f\"The string after removing '{word_to_remove}' is:\\n{modified_string}\")\n"
   ]
  },
  {
   "cell_type": "markdown",
   "id": "d4b2009f-375c-4ab4-8b58-df8c67ff91f6",
   "metadata": {},
   "source": [
    "30. Check if a string is a valid email address"
   ]
  },
  {
   "cell_type": "code",
   "execution_count": 61,
   "id": "b2786e47-0c73-4f5e-9e55-1ef91a4fb0d7",
   "metadata": {},
   "outputs": [
    {
     "name": "stdout",
     "output_type": "stream",
     "text": [
      "durgesh@gmail.com is a valid email address.\n"
     ]
    }
   ],
   "source": [
    "email = \"durgesh@gmail.com\"\n",
    "if \"@\" in email and \".\" in email:\n",
    "    print(f\"{email} is a valid email address.\")\n",
    "else:\n",
    "    print(f\"{email} is not a valid email address.\")\n"
   ]
  },
  {
   "cell_type": "markdown",
   "id": "d7c2de94-b117-483c-b0bd-e975ab930cdb",
   "metadata": {},
   "source": [
    "31. Extract the username from an email address string.\n"
   ]
  },
  {
   "cell_type": "code",
   "execution_count": 62,
   "id": "2764b8d9-4c3a-4e44-abf3-04c8980f7491",
   "metadata": {},
   "outputs": [
    {
     "name": "stdout",
     "output_type": "stream",
     "text": [
      "The username is: user\n"
     ]
    }
   ],
   "source": [
    "email_address = \"user@example.com\"\n",
    "username = email_address.split('@')[0]\n",
    "print(f\"The username is: {username}\")"
   ]
  },
  {
   "cell_type": "markdown",
   "id": "ce864c0d-288d-4f2f-b394-3edd7c2cd0b6",
   "metadata": {},
   "source": [
    "32. Extract the domain name from an email address string"
   ]
  },
  {
   "cell_type": "code",
   "execution_count": 63,
   "id": "a12e219c-c735-473c-8fd9-8d71479e8bc7",
   "metadata": {},
   "outputs": [
    {
     "name": "stdout",
     "output_type": "stream",
     "text": [
      "The domain name is: example.com\n"
     ]
    }
   ],
   "source": [
    "email_address = \"user@example.com\"\n",
    "domain_name = email_address.split('@')[1]\n",
    "print(f\"The domain name is: {domain_name}\")"
   ]
  },
  {
   "cell_type": "markdown",
   "id": "bcd44d80-5c34-463d-bc52-157b3d776692",
   "metadata": {},
   "source": [
    "33. Replace multiple spaces in a string with a single space.\n"
   ]
  },
  {
   "cell_type": "code",
   "execution_count": 64,
   "id": "0f15fe5d-c9ef-4546-aecc-52c6dec31bea",
   "metadata": {},
   "outputs": [
    {
     "name": "stdout",
     "output_type": "stream",
     "text": [
      "The string after replacing multiple spaces is:\n",
      "This is an example with multiple spaces.\n"
     ]
    }
   ],
   "source": [
    "import re\n",
    "input_string = \"This   is   an   example   with   multiple   spaces.\"\n",
    "modified_string = re.sub(r'\\s+', ' ', input_string)\n",
    "print(f\"The string after replacing multiple spaces is:\\n{modified_string}\")\n"
   ]
  },
  {
   "cell_type": "markdown",
   "id": "9c8c4f4c-9f00-4c2b-a785-7ac0f41d3111",
   "metadata": {},
   "source": [
    "34. Check if a string is a valid URL"
   ]
  },
  {
   "cell_type": "code",
   "execution_count": 65,
   "id": "98116f87-a2cd-49f4-ab15-4716143b3714",
   "metadata": {},
   "outputs": [
    {
     "name": "stdout",
     "output_type": "stream",
     "text": [
      "https://github.com/durgesh1587 is a valid URL.\n"
     ]
    }
   ],
   "source": [
    "from urllib.parse import urlparse\n",
    "\n",
    "def is_valid_url(url):\n",
    "    try:\n",
    "        result = urlparse(url)\n",
    "        return all([result.scheme, result.netloc])\n",
    "    except ValueError:\n",
    "        return False\n",
    "url_to_check = \"https://github.com/durgesh1587\"\n",
    "\n",
    "if is_valid_url(url_to_check):\n",
    "    print(f\"{url_to_check} is a valid URL.\")\n",
    "else:\n",
    "    print(f\"{url_to_check} is not a valid URL.\")"
   ]
  },
  {
   "cell_type": "markdown",
   "id": "9db9e4c7-a3df-496f-b98f-0488de8322e7",
   "metadata": {},
   "source": [
    "35. Extract the protocol (http or https) from a URL string.\n"
   ]
  },
  {
   "cell_type": "code",
   "execution_count": 66,
   "id": "fbeccd8c-91b5-4a84-8a09-2055edba9f21",
   "metadata": {},
   "outputs": [
    {
     "name": "stdout",
     "output_type": "stream",
     "text": [
      "Protocol: https\n"
     ]
    }
   ],
   "source": [
    "from urllib.parse import urlparse\n",
    "\n",
    "def extract_protocol(url):\n",
    "    parsed_url = urlparse(url)\n",
    "    return parsed_url.scheme\n",
    "\n",
    "url =  \"https://github.com/durgesh1587\"\n",
    "protocol = extract_protocol(url)\n",
    "print(\"Protocol:\", protocol)\n"
   ]
  },
  {
   "cell_type": "markdown",
   "id": "e80ae545-53a9-4346-9ccc-1f6f1a555c89",
   "metadata": {},
   "source": [
    "36. Find the frequency of each character in a string."
   ]
  },
  {
   "cell_type": "code",
   "execution_count": 67,
   "id": "010d7b22-6a86-4087-8cee-0842249049da",
   "metadata": {},
   "outputs": [
    {
     "name": "stdout",
     "output_type": "stream",
     "text": [
      "Character: p, Frequency: 1\n",
      "Character: w, Frequency: 1\n",
      "Character: S, Frequency: 1\n",
      "Character: k, Frequency: 1\n",
      "Character: i, Frequency: 1\n",
      "Character: l, Frequency: 2\n",
      "Character: s, Frequency: 1\n"
     ]
    }
   ],
   "source": [
    "def character_frequency(string):\n",
    "    frequency_dict = {}\n",
    "    \n",
    "    for char in string:\n",
    "        frequency_dict[char] = frequency_dict.get(char, 0) + 1\n",
    "    \n",
    "    return frequency_dict\n",
    "\n",
    "input_string = \"pwSkills\"\n",
    "result = character_frequency(input_string)\n",
    "\n",
    "for char, count in result.items():\n",
    "    print(f\"Character: {char}, Frequency: {count}\")\n"
   ]
  },
  {
   "cell_type": "markdown",
   "id": "9da62b65-7c48-4a58-b077-e2c6a994bda8",
   "metadata": {},
   "source": [
    "37. Remove all punctuation from a string."
   ]
  },
  {
   "cell_type": "code",
   "execution_count": 68,
   "id": "fb90d57a-aef6-497d-97ce-4ed276336675",
   "metadata": {},
   "outputs": [
    {
     "name": "stdout",
     "output_type": "stream",
     "text": [
      "Original String: Hello, world! This is an example string.\n",
      "String without Punctuation: Hello world This is an example string\n"
     ]
    }
   ],
   "source": [
    "import string\n",
    "def remove_punctuation(input_string):\n",
    "    punctuation_chars = string.punctuation\n",
    "    translation_table = str.maketrans(\"\", \"\", punctuation_chars)\n",
    "    cleaned_string = input_string.translate(translation_table)\n",
    "    return cleaned_string\n",
    "input_string = \"Hello, world! This is an example string.\"\n",
    "result = remove_punctuation(input_string)\n",
    "print(\"Original String:\", input_string)\n",
    "print(\"String without Punctuation:\", result)\n"
   ]
  },
  {
   "cell_type": "markdown",
   "id": "22b8449a-1f03-497f-9a22-aa675bb03036",
   "metadata": {},
   "source": [
    "38. Check if a string contains only digits."
   ]
  },
  {
   "cell_type": "code",
   "execution_count": 69,
   "id": "29d3a768-9c7a-4318-a4e3-b0d7dd3ea5e0",
   "metadata": {},
   "outputs": [
    {
     "name": "stdout",
     "output_type": "stream",
     "text": [
      "123.45 contains only digits: True\n",
      "-789 contains only digits: True\n"
     ]
    }
   ],
   "source": [
    "import re\n",
    "def contains_only_digits_and_optional_sign(input_string):\n",
    "    return re.match(r'^[+-]?\\d*\\.?\\d+$', input_string) is not None\n",
    "numeric_string1 = \"123.45\"\n",
    "numeric_string2 = \"-789\"\n",
    "print(f\"{numeric_string1} contains only digits: {contains_only_digits_and_optional_sign(numeric_string1)}\")\n",
    "print(f\"{numeric_string2} contains only digits: {contains_only_digits_and_optional_sign(numeric_string2)}\")\n"
   ]
  },
  {
   "cell_type": "markdown",
   "id": "f6195f09-390a-4590-aaa8-882dc3c108b2",
   "metadata": {},
   "source": [
    "39. Check if a string contains only alphabets."
   ]
  },
  {
   "cell_type": "code",
   "execution_count": 70,
   "id": "9a05a853-cd8e-4512-9da5-0832fdb765b0",
   "metadata": {},
   "outputs": [
    {
     "name": "stdout",
     "output_type": "stream",
     "text": [
      "Hello contains only alphabets: True\n",
      "Hello123 contains only alphabets: False\n"
     ]
    }
   ],
   "source": [
    "def contains_only_alphabets(input_string):\n",
    "    return input_string.isalpha()\n",
    "string1 = \"Hello\"\n",
    "string2 = \"Hello123\"\n",
    "print(f\"{string1} contains only alphabets: {contains_only_alphabets(string1)}\")\n",
    "print(f\"{string2} contains only alphabets: {contains_only_alphabets(string2)}\")\n"
   ]
  },
  {
   "cell_type": "markdown",
   "id": "0ffecc16-29a9-44f9-beb5-68fb0aca613d",
   "metadata": {},
   "source": [
    "40. Convert a string to a list of characters."
   ]
  },
  {
   "cell_type": "code",
   "execution_count": 71,
   "id": "0da698ad-c914-4ae8-ad1b-76f7e09a530c",
   "metadata": {},
   "outputs": [
    {
     "name": "stdout",
     "output_type": "stream",
     "text": [
      "Original String: Hello, World\n",
      "List of Characters: ['H', 'e', 'l', 'l', 'o', ',', ' ', 'W', 'o', 'r', 'l', 'd']\n"
     ]
    }
   ],
   "source": [
    "def string_to_list(string):\n",
    "    char_list = list(string)\n",
    "    return char_list\n",
    "input_string = \"Hello, World\"\n",
    "result = string_to_list(input_string)\n",
    "\n",
    "print(\"Original String:\", input_string)\n",
    "print(\"List of Characters:\", result)\n"
   ]
  },
  {
   "cell_type": "markdown",
   "id": "67bd35c1-50a6-40f2-af67-0ab3ea9a6456",
   "metadata": {},
   "source": [
    "41. Check if two strings are anagrams."
   ]
  },
  {
   "cell_type": "code",
   "execution_count": 72,
   "id": "b575c85c-3399-416b-8417-a1936ae22d4f",
   "metadata": {},
   "outputs": [
    {
     "name": "stdout",
     "output_type": "stream",
     "text": [
      "Listen and Silent are anagrams.\n"
     ]
    }
   ],
   "source": [
    "def are_anagrams(str1, str2):\n",
    "    str1 = str1.replace(\" \", \"\").lower()\n",
    "    str2 = str2.replace(\" \", \"\").lower()\n",
    "    return sorted(str1) == sorted(str2)\n",
    "string1 = \"Listen\"\n",
    "string2 = \"Silent\"\n",
    "\n",
    "if are_anagrams(string1, string2):\n",
    "    print(f\"{string1} and {string2} are anagrams.\")\n",
    "else:\n",
    "    print(f\"{string1} and {string2} are not anagrams.\")\n"
   ]
  },
  {
   "cell_type": "markdown",
   "id": "aee2833c-95fc-42e9-8e45-b921651b01a1",
   "metadata": {},
   "source": [
    "42. Encode a string using a Caesar cipher."
   ]
  },
  {
   "cell_type": "code",
   "execution_count": 73,
   "id": "7fa44bea-bfe7-455c-9404-5b84278a1d02",
   "metadata": {},
   "outputs": [
    {
     "name": "stdout",
     "output_type": "stream",
     "text": [
      "Original Text: Hello, World!\n",
      "Caesar Cipher (Shift 3): Khoor, Zruog!\n"
     ]
    }
   ],
   "source": [
    "def caesar_cipher_encrypt(text, shift):\n",
    "    return ''.join([chr((ord(char) - ord('A' if char.isupper() else 'a') + shift) % 26 + ord('A' if char.isupper() else 'a')) if char.isalpha() else char for char in text])\n",
    "plaintext = \"Hello, World!\"\n",
    "shift = 3\n",
    "encrypted_text = caesar_cipher_encrypt(plaintext, shift)\n",
    "\n",
    "print(\"Original Text:\", plaintext)\n",
    "print(f\"Caesar Cipher (Shift {shift}):\", encrypted_text)\n"
   ]
  },
  {
   "cell_type": "markdown",
   "id": "ef75a933-0847-41a0-a76d-61968b0fdf27",
   "metadata": {},
   "source": [
    "43. Decode a Caesar cipher encoded string."
   ]
  },
  {
   "cell_type": "code",
   "execution_count": 74,
   "id": "e040f8ad-4651-4e16-8905-2f560305d569",
   "metadata": {},
   "outputs": [
    {
     "name": "stdout",
     "output_type": "stream",
     "text": [
      "Encrypted Text: durgesh, kumar!\n",
      "Caesar Cipher Decryption (Shift 3): arodbpe, hrjxo!\n"
     ]
    }
   ],
   "source": [
    "def caesar_cipher_decrypt(text, shift):\n",
    "    return ''.join([chr((ord(char) - ord('A' if char.isupper() else 'a') - shift) % 26 + ord('A' if char.isupper() else 'a')) if char.isalpha() else char for char in text])\n",
    "encrypted_text = \"durgesh, kumar!\"\n",
    "shift = 3\n",
    "decrypted_text = caesar_cipher_decrypt(encrypted_text, shift)\n",
    "\n",
    "print(\"Encrypted Text:\", encrypted_text)\n",
    "print(f\"Caesar Cipher Decryption (Shift {shift}):\", decrypted_text)\n"
   ]
  },
  {
   "cell_type": "markdown",
   "id": "44434bbf-c29e-4b1f-9444-8d5f1f0e719a",
   "metadata": {},
   "source": [
    "44. Find the most frequent word in a string."
   ]
  },
  {
   "cell_type": "code",
   "execution_count": 75,
   "id": "4ae3e43a-0f7f-4ddf-9a7c-79eb3eb18087",
   "metadata": {},
   "outputs": [
    {
     "name": "stdout",
     "output_type": "stream",
     "text": [
      "Most frequent word: this\n"
     ]
    }
   ],
   "source": [
    "def most_frequent_word(input_string):\n",
    "    word_count = {}\n",
    "    cleaned_string = ''.join(char.lower() if char.isalnum() or char.isspace() else ' ' for char in input_string)\n",
    "    return max(cleaned_string.split(), key=cleaned_string.split().count)\n",
    "input_string = \"This is a simple example. This example demonstrates how to find the most frequent word in a string.\"\n",
    "\n",
    "result = most_frequent_word(input_string)\n",
    "print(\"Most frequent word:\", result)\n"
   ]
  },
  {
   "cell_type": "markdown",
   "id": "b5a6015b-922b-4982-8552-d2c7afbb4358",
   "metadata": {},
   "source": [
    "45. Find all unique words in a string."
   ]
  },
  {
   "cell_type": "code",
   "execution_count": 76,
   "id": "f950e28c-b947-4446-98c1-328a1f6c468d",
   "metadata": {},
   "outputs": [
    {
     "name": "stdout",
     "output_type": "stream",
     "text": [
      "Unique words: {'this', 'find', 'example', 'is', 'all', 'in', 'words', 'how', 'to', 'a', 'demonstrates', 'unique', 'string', 'simple'}\n"
     ]
    }
   ],
   "source": [
    "def unique_words(input_string):\n",
    "    cleaned_string = ''.join(char.lower() if char.isalnum() or char.isspace() else ' ' for char in input_string)\n",
    "    return set(cleaned_string.split())\n",
    "input_string = \"This is a simple example. This example demonstrates how to find all unique words in a string.\"\n",
    "result = unique_words(input_string)\n",
    "print(\"Unique words:\", result)"
   ]
  },
  {
   "cell_type": "markdown",
   "id": "dc006788-1e72-4207-94b2-76c826e3d52d",
   "metadata": {},
   "source": [
    "46. Count the number of syllables in a string."
   ]
  },
  {
   "cell_type": "code",
   "execution_count": 77,
   "id": "9ab5bf06-827d-46a0-a65f-4541303eec17",
   "metadata": {},
   "outputs": [],
   "source": [
    "count_syllables = lambda word: sum(1 for char in word.lower() if char in 'aeiouy')\n"
   ]
  },
  {
   "cell_type": "code",
   "execution_count": 78,
   "id": "f047f099-9c49-4a16-89a5-df6a2ec91f7e",
   "metadata": {},
   "outputs": [
    {
     "data": {
      "text/plain": [
       "3"
      ]
     },
     "execution_count": 78,
     "metadata": {},
     "output_type": "execute_result"
    }
   ],
   "source": [
    "count_syllables (\"dith,durgesh\")"
   ]
  },
  {
   "cell_type": "markdown",
   "id": "fb36e3f6-9625-4666-bdc0-9978b7d80ef2",
   "metadata": {},
   "source": [
    "47. Check if a string contains any special characters."
   ]
  },
  {
   "cell_type": "code",
   "execution_count": 79,
   "id": "52d0f978-57d9-4819-abee-03b689b2038e",
   "metadata": {},
   "outputs": [],
   "source": [
    "contains_special_chars = lambda s: any(char for char in s if not char.isalnum())\n"
   ]
  },
  {
   "cell_type": "code",
   "execution_count": 80,
   "id": "809c2efe-7117-40ce-9e24-c5333c23d717",
   "metadata": {},
   "outputs": [
    {
     "data": {
      "text/plain": [
       "True"
      ]
     },
     "execution_count": 80,
     "metadata": {},
     "output_type": "execute_result"
    }
   ],
   "source": [
    "contains_special_chars(\"Dur%gesh1\")"
   ]
  },
  {
   "cell_type": "markdown",
   "id": "aeb16fa4-5bd0-43bf-8bcc-5c2b481db460",
   "metadata": {},
   "source": [
    "48. Remove the nth word from a string."
   ]
  },
  {
   "cell_type": "code",
   "execution_count": 81,
   "id": "ba7abf58-aa99-4d27-928c-ff3c3f416bbf",
   "metadata": {},
   "outputs": [
    {
     "ename": "NameError",
     "evalue": "name 'remove_nth_word' is not defined",
     "output_type": "error",
     "traceback": [
      "\u001b[0;31m---------------------------------------------------------------------------\u001b[0m",
      "\u001b[0;31mNameError\u001b[0m                                 Traceback (most recent call last)",
      "Cell \u001b[0;32mIn[81], line 2\u001b[0m\n\u001b[1;32m      1\u001b[0m original_string \u001b[38;5;241m=\u001b[39m \u001b[38;5;124m\"\u001b[39m\u001b[38;5;124mThis is an example sentence.\u001b[39m\u001b[38;5;124m\"\u001b[39m\n\u001b[0;32m----> 2\u001b[0m result \u001b[38;5;241m=\u001b[39m \u001b[43mremove_nth_word\u001b[49m(original_string, \u001b[38;5;241m3\u001b[39m)\n\u001b[1;32m      3\u001b[0m \u001b[38;5;28mprint\u001b[39m(\u001b[38;5;124m\"\u001b[39m\u001b[38;5;124mOriginal String:\u001b[39m\u001b[38;5;124m\"\u001b[39m, original_string)\n\u001b[1;32m      4\u001b[0m \u001b[38;5;28mprint\u001b[39m(\u001b[38;5;124m\"\u001b[39m\u001b[38;5;124mString without the 3rd word:\u001b[39m\u001b[38;5;124m\"\u001b[39m, result)\n",
      "\u001b[0;31mNameError\u001b[0m: name 'remove_nth_word' is not defined"
     ]
    }
   ],
   "source": [
    "original_string = \"This is an example sentence.\"\n",
    "result = remove_nth_word(original_string, 3)\n",
    "print(\"Original String:\", original_string)\n",
    "print(\"String without the 3rd word:\", result)\n"
   ]
  },
  {
   "cell_type": "markdown",
   "id": "ba18eae8-5c07-4560-ac3b-109c6b2e401b",
   "metadata": {},
   "source": [
    "49. Insert a word at the nth position in a string."
   ]
  },
  {
   "cell_type": "code",
   "execution_count": 82,
   "id": "851bdab2-46dd-47f3-b945-6f11e3a8bca4",
   "metadata": {},
   "outputs": [],
   "source": [
    "insert_word_at_nth_position = lambda s, word, n: ' '.join([word] + s.split()[:n-1] + s.split()[n-1:])\n"
   ]
  },
  {
   "cell_type": "code",
   "execution_count": 83,
   "id": "5c13267a-9e02-45d7-b2e2-6cec8f572975",
   "metadata": {},
   "outputs": [
    {
     "name": "stdout",
     "output_type": "stream",
     "text": [
      "Original String: This is an example sentence.\n",
      "String with 'new' inserted at position 3: new This is an example sentence.\n"
     ]
    }
   ],
   "source": [
    "original_string = \"This is an example sentence.\"\n",
    "word_to_insert = \"new\"\n",
    "position_to_insert = 3\n",
    "result = insert_word_at_nth_position(original_string, word_to_insert, position_to_insert)\n",
    "print(\"Original String:\", original_string)\n",
    "print(f\"String with '{word_to_insert}' inserted at position {position_to_insert}:\", result)\n"
   ]
  },
  {
   "cell_type": "markdown",
   "id": "55ca2410-ed4a-4d29-a761-d4e265b57282",
   "metadata": {},
   "source": [
    "50. Convert a CSV string to a list of lists."
   ]
  },
  {
   "cell_type": "code",
   "execution_count": 85,
   "id": "f2d647b6-8ccf-442d-a531-4bc9f19bc394",
   "metadata": {},
   "outputs": [],
   "source": [
    "def csv_string_to_list(csv_string):\n",
    "    lines = csv_string.split('\\n')\n",
    "    csv_list = [line.split(',') for line in lines if line.strip()]\n",
    "    \n",
    "    return csv_list\n"
   ]
  },
  {
   "cell_type": "code",
   "execution_count": 86,
   "id": "8a3d0f22-7bdf-4ab1-935f-be4daed38e94",
   "metadata": {},
   "outputs": [
    {
     "data": {
      "text/plain": [
       "[['durgesh']]"
      ]
     },
     "execution_count": 86,
     "metadata": {},
     "output_type": "execute_result"
    }
   ],
   "source": [
    "csv_string_to_list(\"durgesh\")"
   ]
  },
  {
   "cell_type": "markdown",
   "id": "dc06037b-55c4-4276-970d-769b36274546",
   "metadata": {},
   "source": [
    "List Based Practice Problem :"
   ]
  },
  {
   "cell_type": "markdown",
   "id": "91f8e606-27fe-4883-8127-cf70b39ae716",
   "metadata": {},
   "source": [
    "1. Create a list with integers from 1 to 10."
   ]
  },
  {
   "cell_type": "code",
   "execution_count": 87,
   "id": "f2af6758-c690-43e8-a926-1965b3742e7c",
   "metadata": {},
   "outputs": [],
   "source": [
    "lists=[1,2,3,4,5,6,7,8,9,10]"
   ]
  },
  {
   "cell_type": "code",
   "execution_count": 88,
   "id": "08b33fc3-3011-4735-a0d9-010769c37851",
   "metadata": {},
   "outputs": [
    {
     "data": {
      "text/plain": [
       "[1, 2, 3, 4, 5, 6, 7, 8, 9, 10]"
      ]
     },
     "execution_count": 88,
     "metadata": {},
     "output_type": "execute_result"
    }
   ],
   "source": [
    "lists"
   ]
  },
  {
   "cell_type": "markdown",
   "id": "0b85075f-6c75-4667-8653-c93c4022f5cc",
   "metadata": {},
   "source": [
    "2. Find the length of a list without using the `len()` function."
   ]
  },
  {
   "cell_type": "code",
   "execution_count": 100,
   "id": "3a8df2fd-f55f-4e68-b2c4-5693b0a01741",
   "metadata": {},
   "outputs": [
    {
     "name": "stdout",
     "output_type": "stream",
     "text": [
      "Length of the list: 1\n",
      "Length of the list: 2\n",
      "Length of the list: 3\n",
      "Length of the list: 4\n",
      "Length of the list: 5\n",
      "Length of the list: 6\n",
      "Length of the list: 7\n",
      "Length of the list: 8\n",
      "Length of the list: 9\n",
      "Length of the list: 10\n"
     ]
    }
   ],
   "source": [
    "my_list=0\n",
    "\n",
    "for x in lists:\n",
    "    my_list +=1\n",
    "    print(\"Length of the list:\", my_list)"
   ]
  },
  {
   "cell_type": "markdown",
   "id": "60ba6d0f-7170-4c1c-8549-f58baa1f040d",
   "metadata": {},
   "source": [
    "Q - Append an element to the end of a list."
   ]
  },
  {
   "cell_type": "code",
   "execution_count": 103,
   "id": "db45e8c0-216e-4595-88f2-12c58b809b78",
   "metadata": {},
   "outputs": [
    {
     "data": {
      "text/plain": [
       "[1, 2, 3, 4, 5, 6, 7, 8, 9, 10]"
      ]
     },
     "execution_count": 103,
     "metadata": {},
     "output_type": "execute_result"
    }
   ],
   "source": [
    "lists"
   ]
  },
  {
   "cell_type": "code",
   "execution_count": 104,
   "id": "64aa84b1-cae5-4efa-ada2-08a9b63e8978",
   "metadata": {},
   "outputs": [],
   "source": [
    "lists.append(11)"
   ]
  },
  {
   "cell_type": "code",
   "execution_count": 105,
   "id": "a1618033-e592-4832-8f86-184e693c8ed7",
   "metadata": {},
   "outputs": [
    {
     "data": {
      "text/plain": [
       "[1, 2, 3, 4, 5, 6, 7, 8, 9, 10, 11]"
      ]
     },
     "execution_count": 105,
     "metadata": {},
     "output_type": "execute_result"
    }
   ],
   "source": [
    "lists"
   ]
  },
  {
   "cell_type": "markdown",
   "id": "ef8653a7-0039-484c-ad9b-cdc653d4e11a",
   "metadata": {},
   "source": [
    "Q -4. Insert an element at a specific index in a list."
   ]
  },
  {
   "cell_type": "code",
   "execution_count": 106,
   "id": "3b58b476-ad71-4a10-bc75-6da7ba973f3b",
   "metadata": {},
   "outputs": [],
   "source": [
    "lists.insert(10,2)"
   ]
  },
  {
   "cell_type": "code",
   "execution_count": 107,
   "id": "fd7db8b6-7cc5-4813-97ab-92560dd7a1a6",
   "metadata": {},
   "outputs": [
    {
     "data": {
      "text/plain": [
       "[1, 2, 3, 4, 5, 6, 7, 8, 9, 10, 2, 11]"
      ]
     },
     "execution_count": 107,
     "metadata": {},
     "output_type": "execute_result"
    }
   ],
   "source": [
    "lists"
   ]
  },
  {
   "cell_type": "markdown",
   "id": "bb94b797-0d5a-4297-8981-0dfb868ddd04",
   "metadata": {},
   "source": [
    "Q-Remove an element from a list by its value."
   ]
  },
  {
   "cell_type": "code",
   "execution_count": 108,
   "id": "72c84aaa-8135-42aa-bb49-e5f0e0ad02dd",
   "metadata": {},
   "outputs": [],
   "source": [
    "lists.remove(2)"
   ]
  },
  {
   "cell_type": "code",
   "execution_count": 109,
   "id": "57f40167-652f-4628-8161-1cbbb7d84181",
   "metadata": {},
   "outputs": [
    {
     "data": {
      "text/plain": [
       "[1, 3, 4, 5, 6, 7, 8, 9, 10, 2, 11]"
      ]
     },
     "execution_count": 109,
     "metadata": {},
     "output_type": "execute_result"
    }
   ],
   "source": [
    "lists"
   ]
  },
  {
   "cell_type": "code",
   "execution_count": 110,
   "id": "54de6286-0c50-4bf0-8565-d394061ff21d",
   "metadata": {},
   "outputs": [
    {
     "data": {
      "text/plain": [
       "5"
      ]
     },
     "execution_count": 110,
     "metadata": {},
     "output_type": "execute_result"
    }
   ],
   "source": [
    "lists.pop(3)"
   ]
  },
  {
   "cell_type": "code",
   "execution_count": 111,
   "id": "308aade7-1091-4ec5-bf70-9448f544ab6b",
   "metadata": {},
   "outputs": [
    {
     "data": {
      "text/plain": [
       "[1, 3, 4, 6, 7, 8, 9, 10, 2, 11]"
      ]
     },
     "execution_count": 111,
     "metadata": {},
     "output_type": "execute_result"
    }
   ],
   "source": [
    "lists"
   ]
  },
  {
   "cell_type": "markdown",
   "id": "e315c0d8-61ad-46c5-8dd0-7114ae0d004b",
   "metadata": {},
   "source": [
    "Q 7. Check if an element exists in a list."
   ]
  },
  {
   "cell_type": "code",
   "execution_count": 112,
   "id": "783b6dfd-4a09-4a54-a123-c4220d1ebed8",
   "metadata": {},
   "outputs": [
    {
     "data": {
      "text/plain": [
       "[1, 3, 4, 6, 7, 8, 9, 10, 2, 11]"
      ]
     },
     "execution_count": 112,
     "metadata": {},
     "output_type": "execute_result"
    }
   ],
   "source": [
    "lists"
   ]
  },
  {
   "cell_type": "code",
   "execution_count": 115,
   "id": "f3f74f0a-ec80-4794-ac47-e589f89092c7",
   "metadata": {},
   "outputs": [
    {
     "name": "stdout",
     "output_type": "stream",
     "text": [
      "Element exists: True\n"
     ]
    }
   ],
   "source": [
    "element_exists= 3 in lists\n",
    "print(\"Element exists:\", element_exists)"
   ]
  },
  {
   "cell_type": "markdown",
   "id": "125c4a4d-eaeb-4eae-b320-e1d40506881b",
   "metadata": {},
   "source": [
    "Q - Find the index of the first occurrence of an element in a list."
   ]
  },
  {
   "cell_type": "code",
   "execution_count": 116,
   "id": "607f3911-6763-4834-ac2f-eab2c2894861",
   "metadata": {},
   "outputs": [
    {
     "data": {
      "text/plain": [
       "[1, 3, 4, 6, 7, 8, 9, 10, 2, 11]"
      ]
     },
     "execution_count": 116,
     "metadata": {},
     "output_type": "execute_result"
    }
   ],
   "source": [
    "lists"
   ]
  },
  {
   "cell_type": "code",
   "execution_count": 121,
   "id": "aed48ce8-3333-43a7-88f0-3ff45c9ac5a8",
   "metadata": {},
   "outputs": [],
   "source": [
    "index_of = lists.index(3)"
   ]
  },
  {
   "cell_type": "code",
   "execution_count": 118,
   "id": "b37eedda-f58d-456e-973b-94d1ba0856fd",
   "metadata": {},
   "outputs": [
    {
     "data": {
      "text/plain": [
       "1"
      ]
     },
     "execution_count": 118,
     "metadata": {},
     "output_type": "execute_result"
    }
   ],
   "source": [
    "index_of"
   ]
  },
  {
   "cell_type": "markdown",
   "id": "a5ca1e80-ef3c-4f6a-a161-4614bb86248f",
   "metadata": {},
   "source": [
    "Q -Count the occurrences of an element in a list."
   ]
  },
  {
   "cell_type": "code",
   "execution_count": 134,
   "id": "a11013a8-ba47-487f-8ca7-5478fbb258ca",
   "metadata": {},
   "outputs": [],
   "source": [
    "my_list=[1,2,3,4,5,6,7,8,9]\n",
    "count_of_3=my_list.count(4)"
   ]
  },
  {
   "cell_type": "code",
   "execution_count": null,
   "id": "f6de4219-bd22-43c0-8d59-b6c5c86dd2e6",
   "metadata": {},
   "outputs": [],
   "source": [
    "co"
   ]
  }
 ],
 "metadata": {
  "kernelspec": {
   "display_name": "Python 3 (ipykernel)",
   "language": "python",
   "name": "python3"
  },
  "language_info": {
   "codemirror_mode": {
    "name": "ipython",
    "version": 3
   },
   "file_extension": ".py",
   "mimetype": "text/x-python",
   "name": "python",
   "nbconvert_exporter": "python",
   "pygments_lexer": "ipython3",
   "version": "3.10.8"
  }
 },
 "nbformat": 4,
 "nbformat_minor": 5
}
