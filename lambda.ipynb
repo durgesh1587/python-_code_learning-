{
 "cells": [
  {
   "cell_type": "code",
   "execution_count": 9,
   "id": "b0b183ce-a3dc-4e98-86ec-d3f78f0b9793",
   "metadata": {},
   "outputs": [],
   "source": [
    "def test(a,b):\n",
    "    return  a**b"
   ]
  },
  {
   "cell_type": "code",
   "execution_count": 10,
   "id": "4c715e0c-7128-4b59-ae1b-b5bbaf53deba",
   "metadata": {},
   "outputs": [
    {
     "data": {
      "text/plain": [
       "8"
      ]
     },
     "execution_count": 10,
     "metadata": {},
     "output_type": "execute_result"
    }
   ],
   "source": [
    "test(2,3)"
   ]
  },
  {
   "cell_type": "code",
   "execution_count": 12,
   "id": "58341399-69a0-4ecc-ae27-efc53c9ab2f2",
   "metadata": {},
   "outputs": [],
   "source": [
    "c=lambda a,b: a**b"
   ]
  },
  {
   "cell_type": "code",
   "execution_count": 14,
   "id": "10c658f1-50f2-4ff1-9265-e858416ac588",
   "metadata": {},
   "outputs": [
    {
     "data": {
      "text/plain": [
       "8"
      ]
     },
     "execution_count": 14,
     "metadata": {},
     "output_type": "execute_result"
    }
   ],
   "source": [
    "c(2,3)"
   ]
  },
  {
   "cell_type": "code",
   "execution_count": 17,
   "id": "89dae90e-feef-408b-b7d1-6772a743bb63",
   "metadata": {},
   "outputs": [],
   "source": [
    "f=lambda a,c: a/c"
   ]
  },
  {
   "cell_type": "code",
   "execution_count": 18,
   "id": "3d382253-f1b3-4ce8-a834-f0b286d64290",
   "metadata": {},
   "outputs": [
    {
     "data": {
      "text/plain": [
       "0.5"
      ]
     },
     "execution_count": 18,
     "metadata": {},
     "output_type": "execute_result"
    }
   ],
   "source": [
    "f(20,40)"
   ]
  },
  {
   "cell_type": "code",
   "execution_count": 23,
   "id": "28d8025a-79c7-4e18-8556-ee4e00a247a9",
   "metadata": {},
   "outputs": [],
   "source": [
    "find_max = lambda x,y : x if x>y else y"
   ]
  },
  {
   "cell_type": "code",
   "execution_count": 24,
   "id": "75a5431a-827e-486e-a25a-8cc2d71e9923",
   "metadata": {},
   "outputs": [
    {
     "data": {
      "text/plain": [
       "200"
      ]
     },
     "execution_count": 24,
     "metadata": {},
     "output_type": "execute_result"
    }
   ],
   "source": [
    "find_max(200,150)"
   ]
  },
  {
   "cell_type": "code",
   "execution_count": 26,
   "id": "6c558dc7-fdd4-480f-b81c-66af3d140f28",
   "metadata": {},
   "outputs": [],
   "source": [
    "s= \"pwskills\""
   ]
  },
  {
   "cell_type": "code",
   "execution_count": 32,
   "id": "42f53229-ba0e-4002-a5e5-12ac07140b76",
   "metadata": {},
   "outputs": [],
   "source": [
    "find_len = lambda s :len (s)"
   ]
  },
  {
   "cell_type": "code",
   "execution_count": 34,
   "id": "fd85fbaf-c2e6-40ea-8c38-99d7255b01b2",
   "metadata": {},
   "outputs": [
    {
     "data": {
      "text/plain": [
       "8"
      ]
     },
     "execution_count": 34,
     "metadata": {},
     "output_type": "execute_result"
    }
   ],
   "source": [
    "find_len(s)"
   ]
  },
  {
   "cell_type": "code",
   "execution_count": null,
   "id": "9f7e4147-da58-4e08-810a-b29d63b0b9c8",
   "metadata": {},
   "outputs": [],
   "source": []
  }
 ],
 "metadata": {
  "kernelspec": {
   "display_name": "Python 3 (ipykernel)",
   "language": "python",
   "name": "python3"
  },
  "language_info": {
   "codemirror_mode": {
    "name": "ipython",
    "version": 3
   },
   "file_extension": ".py",
   "mimetype": "text/x-python",
   "name": "python",
   "nbconvert_exporter": "python",
   "pygments_lexer": "ipython3",
   "version": "3.10.8"
  }
 },
 "nbformat": 4,
 "nbformat_minor": 5
}
